{
 "cells": [
  {
   "cell_type": "markdown",
   "id": "d7051d09",
   "metadata": {},
   "source": [
    "# Schüler-IT Sommersemester 2023\n",
    "## Notebook 2: Funktionen und Bibliotheken"
   ]
  },
  {
   "cell_type": "markdown",
   "id": "85aa1579",
   "metadata": {},
   "source": [
    "Hallo liebe Schüllerinnen und Schüler. Das ist eine Jupyternotebook, in diesem könnt ihr lernen zu programmieren. Als Quelle zum Nachlesen kann die offizielle Python Referenz verwendet werden: https://docs.python.org/3/tutorial/ "
   ]
  },
  {
   "cell_type": "markdown",
   "id": "dfcde17d",
   "metadata": {},
   "source": [
    "## 1. Wiederholungen "
   ]
  },
  {
   "cell_type": "code",
   "execution_count": 1,
   "id": "585ccc38",
   "metadata": {},
   "outputs": [],
   "source": [
    "##\n",
    "# function which takes a number and returns qubic\n",
    "##\n",
    "def qubic(n: float) -> float:\n",
    "    return n * n * n"
   ]
  },
  {
   "cell_type": "markdown",
   "id": "c6373b99",
   "metadata": {},
   "source": [
    "### 1. Aufgabe\n",
    "Bitte kommentiere die obenstehende Funktion. Und schreibe den entsprechenden Funktionsaufruf in die folgende Zelle und berechne die Kubikzahl von 44,5. "
   ]
  },
  {
   "cell_type": "code",
   "execution_count": 2,
   "id": "d2b24ebf",
   "metadata": {},
   "outputs": [
    {
     "name": "stdout",
     "output_type": "stream",
     "text": [
      "88121.125\n"
     ]
    }
   ],
   "source": [
    "##\n",
    "# write your code below this comment\n",
    "##\n",
    "print(qubic(44.5))"
   ]
  },
  {
   "cell_type": "markdown",
   "id": "eb8649fb",
   "metadata": {},
   "source": [
    "### 2. Aufgabe\n",
    "Sieh dir die folgende Funktion genauer an. \n",
    "1. Was macht diese? \n",
    "2. Was bedeutet \": str\" hinter der Variablen? \n",
    "3. Was bedeutet \" -> str\" hinter der Liste Eingabeparametern die, die Funktion bekommt? \n",
    "4.Sind diese angaben notwendig?"
   ]
  },
  {
   "cell_type": "code",
   "execution_count": 4,
   "id": "7c76b358",
   "metadata": {},
   "outputs": [],
   "source": [
    "def print_hello(name: str) -> str:\n",
    "    return \"Hello \" + name"
   ]
  },
  {
   "cell_type": "markdown",
   "id": "08a8b67d",
   "metadata": {},
   "source": [
    "Nimm dir bitte einen Moment Zeit und doppelklicke in diese Zelle und versuche die Fragen zu beantworten:\n",
    "\n",
    "Antwort 1: NImmt einen Namen und gibt Hello mit dem Namen wieder.\n",
    "\n",
    "Antwort 2: Die name Variable soll vom Typ str, also eine Zeichenkette sein.\n",
    "\n",
    "Antwort 3: Eine Zeichenkette wird als Rückgabetyp definiert.\n",
    "\n",
    "Antwort 4: Nein, sie sind optional."
   ]
  },
  {
   "cell_type": "markdown",
   "id": "26f592d3",
   "metadata": {},
   "source": [
    "Sieh dir die folgenden Funktionsaufrufe an und versuche vor dem Aufruf zu verstehen was sie ausgeben! Sieh dir den advanced test an und überlege dir was bei diesem Test die Besonderheit ist und überlege wie der Test erfolgreich wird. Informationen zu Try findest du hier https://www.w3schools.com/python/python_try_except.asp . Wenn du wissen willst wie man den Fehler verhindern kann, findest du hier etwas über Castings heraus https://www.w3schools.com/python/python_casting.asp ."
   ]
  },
  {
   "cell_type": "code",
   "execution_count": 5,
   "id": "6145232b",
   "metadata": {},
   "outputs": [
    {
     "name": "stdout",
     "output_type": "stream",
     "text": [
      "Hello Albrecht\n",
      "Hello 123\n",
      "Hello Hello Urmel\n",
      "====================\n",
      "Hello 123\n"
     ]
    }
   ],
   "source": [
    "##\n",
    "# simple tests\n",
    "##\n",
    "print(print_hello(\"Albrecht\"))\n",
    "print(print_hello(\"123\"))\n",
    "print(print_hello(print_hello('Urmel')))\n",
    "print(\"====================\")\n",
    "\n",
    "##\n",
    "# advanced test\n",
    "##\n",
    "try:\n",
    "    print(print_hello(\"123\")) # \"\" macht aus der Zahl eine Zeichenkette, es ist auch mit str() möglich\n",
    "except:\n",
    "    print(\"error\")"
   ]
  },
  {
   "cell_type": "markdown",
   "id": "1a8dc82f",
   "metadata": {},
   "source": [
    "## 2. Funktionen und Tests"
   ]
  },
  {
   "cell_type": "markdown",
   "id": "2e152382",
   "metadata": {},
   "source": [
    "### 1. Aufgabe \n",
    "Gegeben ist die folgende Funktion. Schreibe in die Zelle für den Testcode 3 Test (Aufrufe) mit Namen deiner Wahl."
   ]
  },
  {
   "cell_type": "code",
   "execution_count": 6,
   "id": "cddff322",
   "metadata": {},
   "outputs": [],
   "source": [
    "def print_my_name(my_name):\n",
    "    result = \"Hello \"\n",
    "    return result + my_name"
   ]
  },
  {
   "cell_type": "code",
   "execution_count": 8,
   "id": "09642779",
   "metadata": {},
   "outputs": [
    {
     "name": "stdout",
     "output_type": "stream",
     "text": [
      "Hello Daniel\n",
      "Hello Isabella\n",
      "Hello Tim\n"
     ]
    }
   ],
   "source": [
    "##\n",
    "# test your code here\n",
    "##\n",
    "print(print_my_name('Daniel'))\n",
    "print(print_my_name(\"Isabella\"))\n",
    "print(print_my_name('Tim'))"
   ]
  },
  {
   "cell_type": "markdown",
   "id": "196e1ac7",
   "metadata": {},
   "source": [
    "### 2. Aufgabe \n",
    "Schreibe eine Test Funktion, welche die Ausgaben von \"print_hello()\" und \"print_my_name()\" für den selben Eingabeparameter überprüft und True zurückliefert, wenn Rückgabewerte gleich sind. Weitere Informationen zu Wahrheitswerten True etc findest du hier https://www.w3schools.com/python/python_booleans.asp"
   ]
  },
  {
   "cell_type": "code",
   "execution_count": 9,
   "id": "ad040466",
   "metadata": {},
   "outputs": [
    {
     "name": "stdout",
     "output_type": "stream",
     "text": [
      "True\n"
     ]
    }
   ],
   "source": [
    "name_test = \"Daniel\"\n",
    "\n",
    "def compare_functions(result_func_1, result_func_2):\n",
    "    if result_func_1 == result_func_2:\n",
    "        return True\n",
    "    else:\n",
    "        return False\n",
    "    \n",
    "##\n",
    "# Test\n",
    "##\n",
    "print(compare_functions(print_hello(name_test), print_my_name(name_test)))"
   ]
  },
  {
   "cell_type": "markdown",
   "id": "f48c4620",
   "metadata": {},
   "source": [
    "Unten ist eine Liste mit Messungen zu sehen. Du sollst für deine Firma eine Funktion implementieren, welche dir die größte Zahl zurückgibt, um zu wissen wie hoch der maximale Umsatz war."
   ]
  },
  {
   "cell_type": "code",
   "execution_count": 20,
   "id": "a26c7473",
   "metadata": {},
   "outputs": [],
   "source": [
    "measurement_list = [11, 2, 13, 18, 14, 7, 2, 4, 4, 1, 12, 15, 20, 1, 41, 76, 1, 90, 101]\n",
    "\n",
    "##\n",
    "# write your code below this comment\n",
    "##\n",
    "\n",
    "##\n",
    "# easy solution\n",
    "##\n",
    "def find_maximum(input_list):\n",
    "    return max(input_list)\n",
    "\n",
    "##\n",
    "# better solution\n",
    "##\n",
    "def find_maximum_2(input_list):\n",
    "    length_of_list = len(input_list)\n",
    "    max_value = None\n",
    "    if length_of_list == 1:\n",
    "        return input_list[0]\n",
    "    elif length_of_list > 1:\n",
    "        max_value = input_list[0]\n",
    "        for i in range(1, length_of_list):\n",
    "            if max_value > input_list[i]:\n",
    "                pass\n",
    "            else:\n",
    "                max_value = input_list[i]\n",
    "    return max_value\n",
    "            "
   ]
  },
  {
   "cell_type": "code",
   "execution_count": 21,
   "id": "fcd2997c",
   "metadata": {},
   "outputs": [
    {
     "name": "stdout",
     "output_type": "stream",
     "text": [
      "success\n"
     ]
    }
   ],
   "source": [
    "##\n",
    "# test your code here\n",
    "##\n",
    "if (101 == find_maximum_2(measurement_list)):\n",
    "    print(\"success\")\n",
    "else:\n",
    "    print(\"TEST FAILED\")"
   ]
  },
  {
   "cell_type": "markdown",
   "id": "1ba0fdd4",
   "metadata": {},
   "source": [
    "## 3. Bibliotheken"
   ]
  },
  {
   "cell_type": "markdown",
   "id": "884d9e55",
   "metadata": {},
   "source": [
    "### 1. Aufgabe\n",
    "Du sollst die Bibliothek von einem netten Kollegen benutzen um zu der measurement Liste folgende Elemente hinzuzufügen 21, 66, 45, 132. Die Bibliothek ist hier hinterlegt: https://drive.google.com/drive/folders/1nA9EYW8F2FoxCGgrK66-4iqcbVdLzU7s?usp=share_link . Hinweis du musst diese Datei herunterladen und in deine Jupyter-Notebook Umgebung hochladen in den Ordner, in dem das aktuelle Notebook liegt! Danach kannst du den untenstehenden Code ausführen."
   ]
  },
  {
   "cell_type": "code",
   "execution_count": 22,
   "id": "0f2d8709",
   "metadata": {},
   "outputs": [],
   "source": [
    "from list_library import get_empty_list, add_measurement_to_list, remove_item_from_list_by_index\n",
    "\n",
    "add_measurement_to_list(measurement_list, 21) # add 21 to list\n",
    "add_measurement_to_list(measurement_list, 66)\n",
    "add_measurement_to_list(measurement_list, 45)\n",
    "add_measurement_to_list(measurement_list, 132)"
   ]
  },
  {
   "cell_type": "code",
   "execution_count": 23,
   "id": "a9ddc338",
   "metadata": {},
   "outputs": [
    {
     "name": "stdout",
     "output_type": "stream",
     "text": [
      "[11, 2, 13, 18, 14, 7, 2, 4, 4, 1, 12, 15, 20, 1, 41, 76, 1, 90, 101, 21, 66, 45, 132]\n"
     ]
    }
   ],
   "source": [
    "##\n",
    "# test\n",
    "##\n",
    "print(measurement_list)"
   ]
  },
  {
   "cell_type": "markdown",
   "id": "34266d9f",
   "metadata": {},
   "source": [
    "### 2. Aufgabe\n",
    "Du sollst die Liste leeren in dem du \"measurements\" die leere Liste von \"get_empty_list\" übergibst."
   ]
  },
  {
   "cell_type": "code",
   "execution_count": 24,
   "id": "bf91aba5",
   "metadata": {},
   "outputs": [],
   "source": [
    "##\n",
    "# write your code below here\n",
    "##\n",
    "measurement_list = get_empty_list()"
   ]
  },
  {
   "cell_type": "code",
   "execution_count": 25,
   "id": "700fb226",
   "metadata": {},
   "outputs": [
    {
     "data": {
      "text/plain": [
       "[]"
      ]
     },
     "execution_count": 25,
     "metadata": {},
     "output_type": "execute_result"
    }
   ],
   "source": [
    "measurement_list"
   ]
  },
  {
   "cell_type": "markdown",
   "id": "2a3097cc",
   "metadata": {},
   "source": [
    "### 3. Aufgabe \n",
    "Bindes die öffentliche Bibliothek \"pandas\" ein und lege als Alias \"pd\" fest."
   ]
  },
  {
   "cell_type": "code",
   "execution_count": 26,
   "id": "2b4387b0",
   "metadata": {},
   "outputs": [],
   "source": [
    "import pandas as pd"
   ]
  },
  {
   "cell_type": "markdown",
   "id": "12d80586",
   "metadata": {},
   "source": [
    "### 4. Aufgabe\n",
    "Lies die Datei \"Train_CA.csv\" ein. Sie befindet sich hier: https://drive.google.com/drive/folders/1nA9EYW8F2FoxCGgrK66-4iqcbVdLzU7s?usp=share_link . Hinweis: du musst sie herunterladen und in dein Notebook hochladen. Weitere Informationen zu Pandas findest du hier: https://www.w3schools.com/python/pandas/pandas_csv.asp . Und lasse die mit der Funktion \"head()\" die ersten 2 Zeilen ausgeben."
   ]
  },
  {
   "cell_type": "code",
   "execution_count": 27,
   "id": "714e5471",
   "metadata": {},
   "outputs": [
    {
     "data": {
      "text/html": [
       "<div>\n",
       "<style scoped>\n",
       "    .dataframe tbody tr th:only-of-type {\n",
       "        vertical-align: middle;\n",
       "    }\n",
       "\n",
       "    .dataframe tbody tr th {\n",
       "        vertical-align: top;\n",
       "    }\n",
       "\n",
       "    .dataframe thead th {\n",
       "        text-align: right;\n",
       "    }\n",
       "</style>\n",
       "<table border=\"1\" class=\"dataframe\">\n",
       "  <thead>\n",
       "    <tr style=\"text-align: right;\">\n",
       "      <th></th>\n",
       "      <th>Unnamed: 0</th>\n",
       "      <th>Gender</th>\n",
       "      <th>Age</th>\n",
       "      <th>Debt</th>\n",
       "      <th>Married</th>\n",
       "      <th>BankCustomer</th>\n",
       "      <th>YearsEmployed</th>\n",
       "      <th>PriorDefault</th>\n",
       "      <th>Employed</th>\n",
       "      <th>CreditScore</th>\n",
       "      <th>...</th>\n",
       "      <th>Industry_Transport</th>\n",
       "      <th>Industry_Utilities</th>\n",
       "      <th>Ethnicity_Asian</th>\n",
       "      <th>Ethnicity_Black</th>\n",
       "      <th>Ethnicity_Latino</th>\n",
       "      <th>Ethnicity_Other</th>\n",
       "      <th>Ethnicity_White</th>\n",
       "      <th>Citizen_ByBirth</th>\n",
       "      <th>Citizen_ByOtherMeans</th>\n",
       "      <th>Citizen_Temporary</th>\n",
       "    </tr>\n",
       "  </thead>\n",
       "  <tbody>\n",
       "    <tr>\n",
       "      <th>0</th>\n",
       "      <td>510</td>\n",
       "      <td>0.661438</td>\n",
       "      <td>-1.498873</td>\n",
       "      <td>-0.152521</td>\n",
       "      <td>-1.783765</td>\n",
       "      <td>-1.798090</td>\n",
       "      <td>-0.141565</td>\n",
       "      <td>0.954650</td>\n",
       "      <td>1.157144</td>\n",
       "      <td>-0.082314</td>\n",
       "      <td>...</td>\n",
       "      <td>-0.066082</td>\n",
       "      <td>-0.241417</td>\n",
       "      <td>-0.305782</td>\n",
       "      <td>-0.5</td>\n",
       "      <td>-0.300079</td>\n",
       "      <td>-0.205660</td>\n",
       "      <td>0.831370</td>\n",
       "      <td>0.32249</td>\n",
       "      <td>-0.300079</td>\n",
       "      <td>-0.108306</td>\n",
       "    </tr>\n",
       "    <tr>\n",
       "      <th>1</th>\n",
       "      <td>371</td>\n",
       "      <td>0.661438</td>\n",
       "      <td>-0.437417</td>\n",
       "      <td>1.656686</td>\n",
       "      <td>0.560612</td>\n",
       "      <td>0.556146</td>\n",
       "      <td>-0.664877</td>\n",
       "      <td>-1.047504</td>\n",
       "      <td>-0.864196</td>\n",
       "      <td>-0.493887</td>\n",
       "      <td>...</td>\n",
       "      <td>-0.066082</td>\n",
       "      <td>-0.241417</td>\n",
       "      <td>-0.305782</td>\n",
       "      <td>-0.5</td>\n",
       "      <td>-0.300079</td>\n",
       "      <td>4.862392</td>\n",
       "      <td>-1.202834</td>\n",
       "      <td>0.32249</td>\n",
       "      <td>-0.300079</td>\n",
       "      <td>-0.108306</td>\n",
       "    </tr>\n",
       "  </tbody>\n",
       "</table>\n",
       "<p>2 rows × 35 columns</p>\n",
       "</div>"
      ],
      "text/plain": [
       "   Unnamed: 0    Gender       Age      Debt   Married  BankCustomer  \\\n",
       "0         510  0.661438 -1.498873 -0.152521 -1.783765     -1.798090   \n",
       "1         371  0.661438 -0.437417  1.656686  0.560612      0.556146   \n",
       "\n",
       "   YearsEmployed  PriorDefault  Employed  CreditScore  ...  \\\n",
       "0      -0.141565      0.954650  1.157144    -0.082314  ...   \n",
       "1      -0.664877     -1.047504 -0.864196    -0.493887  ...   \n",
       "\n",
       "   Industry_Transport  Industry_Utilities  Ethnicity_Asian  Ethnicity_Black  \\\n",
       "0           -0.066082           -0.241417        -0.305782             -0.5   \n",
       "1           -0.066082           -0.241417        -0.305782             -0.5   \n",
       "\n",
       "   Ethnicity_Latino  Ethnicity_Other  Ethnicity_White  Citizen_ByBirth  \\\n",
       "0         -0.300079        -0.205660         0.831370          0.32249   \n",
       "1         -0.300079         4.862392        -1.202834          0.32249   \n",
       "\n",
       "   Citizen_ByOtherMeans  Citizen_Temporary  \n",
       "0             -0.300079          -0.108306  \n",
       "1             -0.300079          -0.108306  \n",
       "\n",
       "[2 rows x 35 columns]"
      ]
     },
     "execution_count": 27,
     "metadata": {},
     "output_type": "execute_result"
    }
   ],
   "source": [
    "##\n",
    "# write your code below this comment\n",
    "# use the variable data to store your input data\n",
    "##\n",
    "\n",
    "data = pd.read_csv('Train_CA.csv')\n",
    "data.head(2)"
   ]
  },
  {
   "cell_type": "markdown",
   "id": "c3af0418",
   "metadata": {},
   "source": [
    "### 5. Aufgabe\n",
    "Lies die folgende Datei mit dem Namen \"produkt_klima_tag_18800101_20211231_01684.txt\" ein. Diese findest du hier: https://drive.google.com/drive/folders/1nA9EYW8F2FoxCGgrK66-4iqcbVdLzU7s?usp=share_link ."
   ]
  },
  {
   "cell_type": "code",
   "execution_count": 32,
   "id": "9c22c7ba",
   "metadata": {},
   "outputs": [],
   "source": [
    "##\n",
    "# write your code below this comment\n",
    "##\n",
    "\n",
    "weather_data = pd.read_csv('produkt_klima_tag_18800101_20211231_01684.txt', delimiter=';')"
   ]
  },
  {
   "cell_type": "markdown",
   "id": "91f4e39a",
   "metadata": {},
   "source": [
    "Lasse dir die obersten 2 Zeilen der Tabelle ausgeben mit dem Befehl \".head(2)\" denn du an deinem Tabellen Objekt anfügst."
   ]
  },
  {
   "cell_type": "code",
   "execution_count": 33,
   "id": "184eb82a",
   "metadata": {},
   "outputs": [
    {
     "data": {
      "text/html": [
       "<div>\n",
       "<style scoped>\n",
       "    .dataframe tbody tr th:only-of-type {\n",
       "        vertical-align: middle;\n",
       "    }\n",
       "\n",
       "    .dataframe tbody tr th {\n",
       "        vertical-align: top;\n",
       "    }\n",
       "\n",
       "    .dataframe thead th {\n",
       "        text-align: right;\n",
       "    }\n",
       "</style>\n",
       "<table border=\"1\" class=\"dataframe\">\n",
       "  <thead>\n",
       "    <tr style=\"text-align: right;\">\n",
       "      <th></th>\n",
       "      <th>STATIONS_ID</th>\n",
       "      <th>MESS_DATUM</th>\n",
       "      <th>QN_3</th>\n",
       "      <th>FX</th>\n",
       "      <th>FM</th>\n",
       "      <th>QN_4</th>\n",
       "      <th>RSK</th>\n",
       "      <th>RSKF</th>\n",
       "      <th>SDK</th>\n",
       "      <th>SHK_TAG</th>\n",
       "      <th>NM</th>\n",
       "      <th>VPM</th>\n",
       "      <th>PM</th>\n",
       "      <th>TMK</th>\n",
       "      <th>UPM</th>\n",
       "      <th>TXK</th>\n",
       "      <th>TNK</th>\n",
       "      <th>TGK</th>\n",
       "      <th>eor</th>\n",
       "    </tr>\n",
       "  </thead>\n",
       "  <tbody>\n",
       "    <tr>\n",
       "      <th>0</th>\n",
       "      <td>1684</td>\n",
       "      <td>18800101</td>\n",
       "      <td>-999</td>\n",
       "      <td>-999.0</td>\n",
       "      <td>-999.0</td>\n",
       "      <td>1</td>\n",
       "      <td>9.1</td>\n",
       "      <td>1</td>\n",
       "      <td>-999.0</td>\n",
       "      <td>0</td>\n",
       "      <td>8.0</td>\n",
       "      <td>7.5</td>\n",
       "      <td>984.2</td>\n",
       "      <td>4.2</td>\n",
       "      <td>93.0</td>\n",
       "      <td>5.0</td>\n",
       "      <td>2.5</td>\n",
       "      <td>-999.0</td>\n",
       "      <td>eor</td>\n",
       "    </tr>\n",
       "    <tr>\n",
       "      <th>1</th>\n",
       "      <td>1684</td>\n",
       "      <td>18800102</td>\n",
       "      <td>-999</td>\n",
       "      <td>-999.0</td>\n",
       "      <td>-999.0</td>\n",
       "      <td>1</td>\n",
       "      <td>3.8</td>\n",
       "      <td>1</td>\n",
       "      <td>-999.0</td>\n",
       "      <td>0</td>\n",
       "      <td>8.0</td>\n",
       "      <td>8.4</td>\n",
       "      <td>996.1</td>\n",
       "      <td>5.9</td>\n",
       "      <td>91.0</td>\n",
       "      <td>6.9</td>\n",
       "      <td>4.8</td>\n",
       "      <td>-999.0</td>\n",
       "      <td>eor</td>\n",
       "    </tr>\n",
       "  </tbody>\n",
       "</table>\n",
       "</div>"
      ],
      "text/plain": [
       "   STATIONS_ID  MESS_DATUM  QN_3     FX     FM  QN_4   RSK  RSKF    SDK  \\\n",
       "0         1684    18800101  -999 -999.0 -999.0     1   9.1     1 -999.0   \n",
       "1         1684    18800102  -999 -999.0 -999.0     1   3.8     1 -999.0   \n",
       "\n",
       "   SHK_TAG    NM   VPM     PM   TMK   UPM   TXK   TNK    TGK  eor  \n",
       "0        0   8.0   7.5  984.2   4.2  93.0   5.0   2.5 -999.0  eor  \n",
       "1        0   8.0   8.4  996.1   5.9  91.0   6.9   4.8 -999.0  eor  "
      ]
     },
     "execution_count": 33,
     "metadata": {},
     "output_type": "execute_result"
    }
   ],
   "source": [
    "##\n",
    "# write your code below here\n",
    "##\n",
    "weather_data.head(2)"
   ]
  },
  {
   "cell_type": "markdown",
   "id": "76a88763",
   "metadata": {},
   "source": [
    "### 6. Aufgabe\n",
    "Schreibe eine Funktion, die eine Zeichenkette in einen Datei schreiben kann. Informationen findest du hier: https://www.w3schools.com/python/python_file_write.asp ."
   ]
  },
  {
   "cell_type": "code",
   "execution_count": 34,
   "id": "7f7f92fa",
   "metadata": {},
   "outputs": [],
   "source": [
    "##\n",
    "# example code but no function\n",
    "##\n",
    "\n",
    "file = open(\"output.txt\", \"w\")\n",
    "file.write(\"my_name\")\n",
    "file.close()"
   ]
  },
  {
   "cell_type": "markdown",
   "id": "d09f8e07",
   "metadata": {},
   "source": [
    "### 7. Aufgabe \n",
    "Lies die Datei \"top_secret.txt\" Zeile für Zeile aus. Hilfe findest du hier: https://www.w3schools.com/python/python_file_write.asp . Die Datei findest du hier: https://drive.google.com/drive/folders/1nA9EYW8F2FoxCGgrK66-4iqcbVdLzU7s?usp=share_link ."
   ]
  },
  {
   "cell_type": "code",
   "execution_count": 37,
   "id": "8a00311d",
   "metadata": {},
   "outputs": [
    {
     "name": "stdout",
     "output_type": "stream",
     "text": [
      "['!gh31m t3xt']\n"
     ]
    }
   ],
   "source": [
    "##\n",
    "# write your code below this comment\n",
    "##\n",
    "file2 = open(\"top_secret.txt\", \"r\")\n",
    "print(file2.readlines())\n",
    "file2.close()"
   ]
  },
  {
   "cell_type": "markdown",
   "id": "fa39d74e",
   "metadata": {},
   "source": [
    "### 8. Aufgabe \n",
    "Schreibe eine Funktion die, die Noten Zeile für Zeile einliest und eine Liste erstellt. Berechne dann mit einer Funktion deren Zeugnisnote (Durchschnitt)."
   ]
  },
  {
   "cell_type": "code",
   "execution_count": 25,
   "id": "692607d3",
   "metadata": {},
   "outputs": [],
   "source": [
    "##\n",
    "# write your code below here\n",
    "##"
   ]
  },
  {
   "cell_type": "code",
   "execution_count": null,
   "id": "bf7dc31d",
   "metadata": {},
   "outputs": [],
   "source": []
  }
 ],
 "metadata": {
  "kernelspec": {
   "display_name": "Python 3 (ipykernel)",
   "language": "python",
   "name": "python3"
  },
  "language_info": {
   "codemirror_mode": {
    "name": "ipython",
    "version": 3
   },
   "file_extension": ".py",
   "mimetype": "text/x-python",
   "name": "python",
   "nbconvert_exporter": "python",
   "pygments_lexer": "ipython3",
   "version": "3.9.13"
  }
 },
 "nbformat": 4,
 "nbformat_minor": 5
}
