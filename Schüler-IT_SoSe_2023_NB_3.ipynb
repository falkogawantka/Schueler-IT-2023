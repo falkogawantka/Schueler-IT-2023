{
 "cells": [
  {
   "cell_type": "markdown",
   "id": "d7051d09",
   "metadata": {},
   "source": [
    "# Schüler-IT Sommersemester 2023\n",
    "## Notebook 3: Informationen holen und vorverarbeiten"
   ]
  },
  {
   "cell_type": "markdown",
   "id": "85aa1579",
   "metadata": {},
   "source": [
    "Hallo liebe Schüllerinnen und Schüler. Das ist eine Jupyternotebook, in diesem könnt ihr lernen zu programmieren. Als Quelle zum Nachlesen kann die offizielle Python Referenz verwendet werden: https://docs.python.org/3/tutorial/ "
   ]
  },
  {
   "cell_type": "markdown",
   "id": "dfcde17d",
   "metadata": {},
   "source": [
    "## 1. Wiederholungen "
   ]
  },
  {
   "cell_type": "markdown",
   "id": "f5afd5de",
   "metadata": {},
   "source": [
    "### 1. Aufgabe\n",
    "Überlege dir wie man die Variable var mit der Zeichenkette \"Hallo Olaf\" ausgeben kann?"
   ]
  },
  {
   "cell_type": "code",
   "execution_count": 87,
   "id": "617aec4f",
   "metadata": {},
   "outputs": [],
   "source": [
    "##\n",
    "# 1st idea: does not work\n",
    "##\n",
    "var = \"Hallo Olaf\""
   ]
  },
  {
   "cell_type": "code",
   "execution_count": 88,
   "id": "8d2eea41",
   "metadata": {},
   "outputs": [],
   "source": [
    "##\n",
    "# write you code below this comment\n",
    "##\n"
   ]
  },
  {
   "cell_type": "markdown",
   "id": "c6373b99",
   "metadata": {},
   "source": [
    "### 2. Aufgabe\n",
    "Schreibe eine Funktion die eine Zahl nimmt und diese ausgibt, auf der Konsole! Deine Implementierung soll eine beliebige Zahl nehmen und diese ausgeben, der Name der Funktion soll \"output_number\" sein. Ein Rückgabewert der Funktion ist nicht erforderlich!"
   ]
  },
  {
   "cell_type": "code",
   "execution_count": 89,
   "id": "d2b24ebf",
   "metadata": {},
   "outputs": [],
   "source": [
    "##\n",
    "# write your code below this comment\n",
    "##\n"
   ]
  },
  {
   "cell_type": "markdown",
   "id": "eb8649fb",
   "metadata": {},
   "source": [
    "### 3. Aufgabe\n",
    "Du sollst für deinen Kollegen eine Funktion implementieren, die eine Liste von Werten nimmt. Die Werte der Liste sollen zeilenweise auf der Konsole ausgegeben werden. Das Namensschema für die Bennenung im Projekt ist \"miu_name_der_funktion\"."
   ]
  },
  {
   "cell_type": "code",
   "execution_count": 90,
   "id": "7c76b358",
   "metadata": {},
   "outputs": [],
   "source": [
    "test_list = [-10,-9,-8,-1,-0.5,0,1,3,5,6,6]\n",
    "test_list_2 = ['apple','banana','rahmen','chicken','pie']\n",
    "test_list_3 = [test_list, test_list_2]\n",
    "\n",
    "##\n",
    "# write your code below this comment\n",
    "##"
   ]
  },
  {
   "cell_type": "markdown",
   "id": "08a8b67d",
   "metadata": {},
   "source": [
    "### 4. Aufgabe\n",
    "Schreibe die Testaufrufe für die Umsetzung deiner Funktion für alle 3 Listen."
   ]
  },
  {
   "cell_type": "code",
   "execution_count": 91,
   "id": "e31c8466",
   "metadata": {},
   "outputs": [],
   "source": [
    "##\n",
    "# Todo: write test function\n",
    "##"
   ]
  },
  {
   "cell_type": "markdown",
   "id": "57f24af4",
   "metadata": {},
   "source": [
    "### 5. Aufgabe\n",
    "Ein Kollege hat eine Funktion geschriben, welche eine Liste von Noten aus einer Datei einliest und die Noten als Liste zurückliefert."
   ]
  },
  {
   "cell_type": "code",
   "execution_count": 92,
   "id": "6145232b",
   "metadata": {},
   "outputs": [],
   "source": [
    "##\n",
    "# 12.12.2013\n",
    "# fg: function that reads file and returns string\n",
    "##\n",
    "def return_grades_from_file():\n",
    "    result_string = None\n",
    "    input_file = open(\"grades.txt\", \"r\")\n",
    "    result_string = input_file.readlines()\n",
    "    input_file.close()\n",
    "    \n",
    "    return result_string"
   ]
  },
  {
   "cell_type": "markdown",
   "id": "04101016",
   "metadata": {},
   "source": [
    "### 6. Aufgabe\n",
    "Überzeuge dich von der Korrektheit der Funktion, sieh dir die Notenliste an und vergleiche diese mit der Ausgabe der Funktion. Die Notenliste ist unter https://drive.google.com/drive/folders/1nA9EYW8F2FoxCGgrK66-4iqcbVdLzU7s?usp=share_link zu finden. Sie ist unter dem Namen: \"grades.txt\" gespeichert."
   ]
  },
  {
   "cell_type": "code",
   "execution_count": 93,
   "id": "af55f2fe",
   "metadata": {},
   "outputs": [],
   "source": [
    "##\n",
    "# write test code below this comment\n",
    "##"
   ]
  },
  {
   "cell_type": "markdown",
   "id": "70804341",
   "metadata": {},
   "source": [
    "### 7. Aufgabe\n",
    "Was stellst du fest?\n",
    "1. Was steht in der Datei?\n",
    "2. Wie sieht deine Anzeige der Liste aus?"
   ]
  },
  {
   "cell_type": "markdown",
   "id": "ee49769c",
   "metadata": {},
   "source": [
    "### Antworten\n",
    "Doppelklicke auf diese Zelle und schreibe deine Antworten hier hinein.\n",
    "1. ?\n",
    "2. ?"
   ]
  },
  {
   "cell_type": "markdown",
   "id": "1a8dc82f",
   "metadata": {},
   "source": [
    "## 2. Informationsbeschaffung"
   ]
  },
  {
   "cell_type": "markdown",
   "id": "2e152382",
   "metadata": {},
   "source": [
    "### 1. Aufgabe \n",
    "Leider hat dein deutscher Kollege, die Datei \"noten.txt\" unter https://drive.google.com/drive/folders/1nA9EYW8F2FoxCGgrK66-4iqcbVdLzU7s?usp=share_link abgespeichert. Du musst jetzt return_grades_from_file() so anpassen das, sie die noten.txt einliest."
   ]
  },
  {
   "cell_type": "code",
   "execution_count": 97,
   "id": "09642779",
   "metadata": {},
   "outputs": [],
   "source": [
    "##\n",
    "# fg: please rewrite function that it reads from: \"noten.txt\"\n",
    "##\n",
    "def return_grades_from_file():\n",
    "    result_string = None\n",
    "    input_file = open(\"grades.txt\", \"r\")\n",
    "    result_string = input_file.readlines()\n",
    "    input_file.close()\n",
    "    \n",
    "    return result_string"
   ]
  },
  {
   "cell_type": "markdown",
   "id": "196e1ac7",
   "metadata": {},
   "source": [
    "### 2. Aufgabe \n",
    "Es ist dir zu dumm, das deine Kollegen den Namen der Datei immer wieder ändern. Du denkst dir es wäre clever, die Funktion nach den dateinamen fragen zu lassen. Du hattest sogar schon begonnen. Hilfe: Mit der Funktion input kannst du Zeichenketten einlesen https://www.programiz.com/python-programming/methods/built-in/input "
   ]
  },
  {
   "cell_type": "code",
   "execution_count": 95,
   "id": "ad040466",
   "metadata": {},
   "outputs": [],
   "source": [
    "##\n",
    "#\n",
    "##\n",
    "def return_grades_from_file():\n",
    "    result_string = None\n",
    "    file_name_to_read = None # todo: continue work here\n",
    "    \n",
    "    input_file = open(file_name_to_read, \"r\")\n",
    "    result_string = input_file.readlines()\n",
    "    input_file.close()\n",
    "    \n",
    "    return result_string"
   ]
  },
  {
   "cell_type": "markdown",
   "id": "f48c4620",
   "metadata": {},
   "source": [
    "### 3. Aufgabe\n",
    "Schreibe eine funktion, die Noten aus einer belibigen Datei einlesen kann und in eine Variable als Liste speichert. Von dieser Notenliste soll anschließend das arithmetische Mittel (Durchschnitt) gebildet werden."
   ]
  },
  {
   "cell_type": "code",
   "execution_count": 98,
   "id": "a26c7473",
   "metadata": {},
   "outputs": [
    {
     "name": "stdout",
     "output_type": "stream",
     "text": [
      "[1, 2, 3, 4, 5, 1, 2, 3, 3, 2, 1, 2, 3, 2, 1, 2, 3, 1, 2]\n"
     ]
    }
   ],
   "source": [
    "##\n",
    "# test code: for converting a string list to\n",
    "# code from Simona\n",
    "##\n",
    "grades = return_grades_from_file()\n",
    "grades_int = []\n",
    "for i in range(0, len(grades)):\n",
    "    grades_int.append(int(grades[i]))\n",
    "\n",
    "print(grades_int)"
   ]
  },
  {
   "cell_type": "code",
   "execution_count": 99,
   "id": "fcd2997c",
   "metadata": {},
   "outputs": [],
   "source": [
    "##\n",
    "# your implementation:\n",
    "##\n",
    "import numpy as np\n",
    "\n",
    "def name_of_your_super_function():\n",
    "    ##\n",
    "    # 1st step: read grades from file\n",
    "    ##\n",
    "    list_of_grades = return_grades_from_file()\n",
    "     \n",
    "    ##\n",
    "    # 2nd step: convert grades from string to integer values\n",
    "    # maybe simonas code could work here\n",
    "    ##\n",
    "    \n",
    "    ##\n",
    "    # 3rd step: calculate mean from grade list \n",
    "    ##\n",
    "    \n",
    "    return 0"
   ]
  },
  {
   "cell_type": "code",
   "execution_count": 100,
   "id": "eee4b8ba",
   "metadata": {},
   "outputs": [],
   "source": [
    "##\n",
    "# Test code here\n",
    "##\n"
   ]
  },
  {
   "cell_type": "markdown",
   "id": "20cba2a4",
   "metadata": {},
   "source": [
    "### 4. Aufgabe\n",
    "Schreibe eine Funktion die ein HTTP-Get Request mach und den Status-Code zurückliefert. Weitere Informationen zum GET-Request findest du hier: https://www.ionos.de/digitalguide/hosting/hosting-technik/http-request-erklaert/ oder hier https://wiki.selfhtml.org/wiki/HTTP/Anfragemethoden. Als Testwebsite soll die URL der BSZ Löbau: http://www.bszloebau.de/ verwendet werden. Weitere Informationen zu den Status Codes findest du hier: https://developer.mozilla.org/en-US/docs/Web/HTTP/Status ."
   ]
  },
  {
   "cell_type": "code",
   "execution_count": 101,
   "id": "a8051a78",
   "metadata": {},
   "outputs": [],
   "source": [
    "def get_status_code_from_web_request():\n",
    "    \n",
    "    return 0"
   ]
  },
  {
   "cell_type": "markdown",
   "id": "1ba0fdd4",
   "metadata": {},
   "source": [
    "## 3. Vorverarbeitung von Informationen"
   ]
  },
  {
   "cell_type": "markdown",
   "id": "884d9e55",
   "metadata": {},
   "source": [
    "### 1. Aufgabe\n",
    "Schribe eine Funktion die Grad Celsius Werte in Grad Fahrenheit Temperatur Werte umwandelt. Ganz unten auf https://www.fahrenheit-umrechnen.de/ finden sie die Formel zur Umrechnung, implementieren sie diese in Python."
   ]
  },
  {
   "cell_type": "code",
   "execution_count": 102,
   "id": "0f2d8709",
   "metadata": {},
   "outputs": [],
   "source": [
    "##\n",
    "# write your code below this comment\n",
    "##\n",
    "def convert_celsius_to_fahrenheit(temperature: float) -> float:\n",
    "    return 0.0"
   ]
  },
  {
   "cell_type": "code",
   "execution_count": 103,
   "id": "a9ddc338",
   "metadata": {},
   "outputs": [
    {
     "name": "stdout",
     "output_type": "stream",
     "text": [
      "success\n"
     ]
    }
   ],
   "source": [
    "##\n",
    "# test code, modify the test\n",
    "# write your test case for 17°C --> Fahrenheit\n",
    "##\n",
    "if 0 == 0:\n",
    "    print(\"success\")\n",
    "else:\n",
    "    print(\"error\")"
   ]
  },
  {
   "cell_type": "markdown",
   "id": "34266d9f",
   "metadata": {},
   "source": [
    "### 2. Aufgabe\n",
    "Schreibe eine Funktion die Fahrenheit in Grad Celsius umrechnet."
   ]
  },
  {
   "cell_type": "code",
   "execution_count": 104,
   "id": "bf91aba5",
   "metadata": {},
   "outputs": [],
   "source": [
    "##\n",
    "# write your code below here\n",
    "##\n",
    "def convert_fahrenheit_to_celsius(temperature: float) -> float:\n",
    "    return 0.0"
   ]
  },
  {
   "cell_type": "code",
   "execution_count": 105,
   "id": "700fb226",
   "metadata": {},
   "outputs": [],
   "source": [
    "##\n",
    "# write test code here\n",
    "##\n"
   ]
  },
  {
   "cell_type": "markdown",
   "id": "2a3097cc",
   "metadata": {},
   "source": [
    "### 3. Aufgabe \n",
    "Schreibe eine Funktion die als Eingabe 1 oder 2 entgegen nimmt. Wenn 1 eingegeben wird soll von celsius --> fahrenheit gerechnet werden, der Wert in Grad Fahrenheit soll in einem Dialog Fenster abgefragt werden. Eine Kollegin hatte schon etwas vorgearbeitet, du sollst die Funktion bitte zu Ende schreiben."
   ]
  },
  {
   "cell_type": "code",
   "execution_count": 107,
   "id": "ae2cf2c7",
   "metadata": {},
   "outputs": [],
   "source": [
    "##\n",
    "# function fromabove but with input feature\n",
    "##\n",
    "def convert_celsius_to_fahrenheit_input() -> float:\n",
    "    temperature = float(input('Geben sie die Temperatur als Kommazahl ein: '))\n",
    "    # todo: converting\n",
    "    return 0.0"
   ]
  },
  {
   "cell_type": "code",
   "execution_count": 108,
   "id": "2b4387b0",
   "metadata": {},
   "outputs": [],
   "source": [
    "def your_function_name(convert_number):\n",
    "    result = None\n",
    "    if int(convert_number) == 1:\n",
    "        result = convert_celsius_to_fahrenheit_input()\n",
    "    elif int(convert_number) == 2:\n",
    "        result = convert_fahrenheit_to_celsius()\n",
    "    return result"
   ]
  },
  {
   "cell_type": "code",
   "execution_count": 109,
   "id": "714e5471",
   "metadata": {},
   "outputs": [
    {
     "name": "stdout",
     "output_type": "stream",
     "text": [
      "Geben sie die Temperatur als Kommazahl ein: 12\n",
      "0.0\n"
     ]
    }
   ],
   "source": [
    "##\n",
    "# test your code: define three test cases\n",
    "##\n",
    "\n",
    "\n",
    "print(your_function_name(1))"
   ]
  },
  {
   "cell_type": "markdown",
   "id": "fa39d74e",
   "metadata": {},
   "source": [
    "### 4. Aufgabe\n",
    "1. Informiere dich schon einmal darüber was eine API ist. \n",
    "2. Was ist eine Web-API?\n",
    "3. Kannst du drei Diensteanbieter für eine Wetter-API auflisten?"
   ]
  },
  {
   "cell_type": "markdown",
   "id": "d5a61213",
   "metadata": {},
   "source": [
    "Antworten\n",
    "1. ??\n",
    "2. ??\n",
    "3. ??"
   ]
  },
  {
   "cell_type": "code",
   "execution_count": null,
   "id": "bf7dc31d",
   "metadata": {},
   "outputs": [],
   "source": []
  }
 ],
 "metadata": {
  "kernelspec": {
   "display_name": "Python 3 (ipykernel)",
   "language": "python",
   "name": "python3"
  },
  "language_info": {
   "codemirror_mode": {
    "name": "ipython",
    "version": 3
   },
   "file_extension": ".py",
   "mimetype": "text/x-python",
   "name": "python",
   "nbconvert_exporter": "python",
   "pygments_lexer": "ipython3",
   "version": "3.9.13"
  }
 },
 "nbformat": 4,
 "nbformat_minor": 5
}
