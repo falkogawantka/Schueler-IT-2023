{
 "cells": [
  {
   "cell_type": "markdown",
   "id": "deadly-strain",
   "metadata": {},
   "source": [
    "# Schüler-IT Sommersemester 2023\n",
    "## Notebook 1: Kontrollstrukturen, Codestruktur und Code lesen"
   ]
  },
  {
   "cell_type": "markdown",
   "id": "thermal-cooperative",
   "metadata": {},
   "source": [
    "Hallo liebe Schüllerinnen und Schüler. Das ist eine Jupyternotebook, in diesem könnt ihr lernen zu programmieren. Als Quelle zum Nachlesen kann die offizielle Python Referenz verwendet werden: https://docs.python.org/3/tutorial/ "
   ]
  },
  {
   "cell_type": "markdown",
   "id": "square-textbook",
   "metadata": {},
   "source": [
    "## 1.Wiederholung\n",
    "Gegeben ist eine Funktionsdefinition. Diese Funktion nimmt eine Zahl und multipliziert diese mit dem Faktor 2. Schleifen in der Referenz: https://docs.python.org/3/tutorial/controlflow.html#for-statements"
   ]
  },
  {
   "cell_type": "code",
   "execution_count": 1,
   "id": "alpha-occasion",
   "metadata": {},
   "outputs": [],
   "source": [
    "def multiplication_with_2(number):\n",
    "    return number * 2"
   ]
  },
  {
   "cell_type": "markdown",
   "id": "digital-pearl",
   "metadata": {},
   "source": [
    "### Aufgaben (Tasks)\n",
    "1. Schreibe den Funktionsaufruf für die obenstehende Funktion und lasse das Ergebnis in der Konsole anzeigen."
   ]
  },
  {
   "cell_type": "code",
   "execution_count": 43,
   "id": "neither-fancy",
   "metadata": {},
   "outputs": [],
   "source": [
    "##\n",
    "# write your code below this comment\n",
    "##"
   ]
  },
  {
   "cell_type": "markdown",
   "id": "planned-banks",
   "metadata": {},
   "source": [
    "2. Kommentiere die Funktion (multiplication_with_2) oben. Du kannst mit # am Ene der Zeile einen Kommentar einfügen. Ein Beispiel für einen Kommentar findest du im nächsten Code-Block."
   ]
  },
  {
   "cell_type": "code",
   "execution_count": 9,
   "id": "tracked-maine",
   "metadata": {},
   "outputs": [],
   "source": [
    "age = 23 # das ist eine Zuweisung,  hierbei wird der Wert 23 in der Variable mit dem Namen age gespeichert"
   ]
  },
  {
   "cell_type": "markdown",
   "id": "coral-northeast",
   "metadata": {},
   "source": [
    "3. Schreibe eine Funktion die, das Quadrat einer Zahl zurückgibt. Und nenne die Funktion \"square_number\". Teste deine Funktion mit einem Aufruf!"
   ]
  },
  {
   "cell_type": "code",
   "execution_count": 44,
   "id": "lightweight-rhythm",
   "metadata": {},
   "outputs": [],
   "source": [
    "##\n",
    "# write your code below this comment\n",
    "##"
   ]
  },
  {
   "cell_type": "markdown",
   "id": "material-grant",
   "metadata": {},
   "source": [
    "4. Schreibe eine Funktion, die eine Liste mit Noten nimmt und genau eine Note und diese hinten an die Liste anfügt. Listenfunktionen findest du hier: https://docs.python.org/3/tutorial/introduction.html#lists "
   ]
  },
  {
   "cell_type": "code",
   "execution_count": null,
   "id": "proud-bristol",
   "metadata": {},
   "outputs": [],
   "source": [
    "##\n",
    "# write your code below this comment\n",
    "##"
   ]
  },
  {
   "cell_type": "markdown",
   "id": "fancy-military",
   "metadata": {},
   "source": [
    "5. Schreibe eine Funktion die ein Element in einer Liste entfernen kann. Als Eingabe erwartet die Funktion einen Index von dem Element was entfernt werden soll. https://docs.python.org/3/tutorial/introduction.html#lists"
   ]
  },
  {
   "cell_type": "code",
   "execution_count": 75,
   "id": "caroline-diana",
   "metadata": {},
   "outputs": [],
   "source": [
    "##\n",
    "# write your code below this comment\n",
    "##"
   ]
  },
  {
   "cell_type": "markdown",
   "id": "single-placement",
   "metadata": {},
   "source": [
    "## 2.Kontrollstrukturen"
   ]
  },
  {
   "cell_type": "markdown",
   "id": "obvious-visiting",
   "metadata": {},
   "source": [
    "## Schleifen\n",
    "Schleifen sind für die wiederholte Ausfürhung von Funktionen und Ähnlichem nützlich. Hierzu habt ihr bereits die for-Schleife kennen gelernt. Diese ist im unteren Code-Block zu sehen."
   ]
  },
  {
   "cell_type": "code",
   "execution_count": 12,
   "id": "vocal-nepal",
   "metadata": {},
   "outputs": [
    {
     "name": "stdout",
     "output_type": "stream",
     "text": [
      "Hallo Schüler!\n",
      "Hallo Schüler!\n",
      "Hallo Schüler!\n",
      "Hallo Schüler!\n",
      "Hallo Schüler!\n"
     ]
    }
   ],
   "source": [
    "for i in range(0, 5):\n",
    "    print('Hallo Schüler!')"
   ]
  },
  {
   "cell_type": "markdown",
   "id": "meaningful-antenna",
   "metadata": {},
   "source": [
    "## Aufgaben-Schleifen\n",
    "1. Schreibe die folgende while-Schleife so um, dass 5 mal: \"Hallo Schüler!\" ausgegeben wird."
   ]
  },
  {
   "cell_type": "code",
   "execution_count": 16,
   "id": "little-composer",
   "metadata": {},
   "outputs": [],
   "source": [
    "while not True:\n",
    "    print('Hallo Schüler')"
   ]
  },
  {
   "cell_type": "markdown",
   "id": "permanent-central",
   "metadata": {},
   "source": [
    "2. Was passiert wenn du bei der Schleife das not entfernst? (Weißt du wie man eine Endlosschleife abbricht?)"
   ]
  },
  {
   "cell_type": "code",
   "execution_count": 17,
   "id": "incredible-cleveland",
   "metadata": {},
   "outputs": [],
   "source": [
    "while not True:\n",
    "    print('Hallo Schüler')"
   ]
  },
  {
   "cell_type": "markdown",
   "id": "danish-houston",
   "metadata": {},
   "source": [
    "3. Schreibe eine Schleife (for oder while) die dir 17 mal \"deinen Namen\" ausgibt!"
   ]
  },
  {
   "cell_type": "code",
   "execution_count": 19,
   "id": "beautiful-voice",
   "metadata": {},
   "outputs": [],
   "source": [
    "##\n",
    "# write your code below this comment\n",
    "##"
   ]
  },
  {
   "cell_type": "markdown",
   "id": "peaceful-panel",
   "metadata": {},
   "source": [
    "4. Schreibe eine Funktion, welche n-mal (freiwählbare, ganze Zahl) alle 500 Millisekunden \"Hallo\" ausgibt! Hilfe die Funktion sleep in dem Modul time legt den laufenden Thread für eine Anzahl von Sekunden schlafen. Als Beispiel wenn man time.sleep(0.250) aufruft wird die Abarbeitung des Thread für 250 Millisekunden unterbrochen. Wenn man time.sleep(1) aufruft pasusiert der Thread für 1 Sekunde. Tutorial zu sleep: https://www.digitalocean.com/community/tutorials/python-time-sleep"
   ]
  },
  {
   "cell_type": "code",
   "execution_count": 36,
   "id": "chief-visit",
   "metadata": {},
   "outputs": [],
   "source": [
    "##\n",
    "# write your code below this comment\n",
    "##\n",
    "import time\n",
    "\n",
    "def repeat_hello(n):\n",
    "    return None"
   ]
  },
  {
   "cell_type": "code",
   "execution_count": 38,
   "id": "coral-sympathy",
   "metadata": {},
   "outputs": [],
   "source": [
    "##\n",
    "# write your test code here\n",
    "##\n",
    "repeat_hello(5)"
   ]
  },
  {
   "cell_type": "markdown",
   "id": "piano-cleaning",
   "metadata": {},
   "source": [
    "5. Stell dir vor du schreibst ein Programm für eine Anzeige die immer läuft. Du sollst den Namen der Produktionsmaschine \"T518XK\" alle 2 Sekunden anzeigen. Welche Schleife nutzt du? Schreibe den Code für den Programm und mache sinnvolle Kommentare."
   ]
  },
  {
   "cell_type": "code",
   "execution_count": 45,
   "id": "nasty-warning",
   "metadata": {},
   "outputs": [],
   "source": [
    "##\n",
    "# write your code below this comment\n",
    "##"
   ]
  },
  {
   "cell_type": "code",
   "execution_count": 46,
   "id": "exempt-asian",
   "metadata": {},
   "outputs": [],
   "source": [
    "##\n",
    "# write your test code here\n",
    "##"
   ]
  },
  {
   "cell_type": "markdown",
   "id": "supposed-sleep",
   "metadata": {},
   "source": [
    "## Bedingungen"
   ]
  },
  {
   "cell_type": "markdown",
   "id": "hearing-breakdown",
   "metadata": {},
   "source": [
    "Sicherlich kannst du dich noch an das Beispiel mit den zehn Schulnoten errinern. Schreibe eine Funktion ohne Mathefunktionen, die eine Liste von Noten nimmt und den Durchschnitt ermittelt."
   ]
  },
  {
   "cell_type": "code",
   "execution_count": 47,
   "id": "approximate-excellence",
   "metadata": {},
   "outputs": [],
   "source": [
    "grades = [1,2,3,1,4,2,2,4,4,1]"
   ]
  },
  {
   "cell_type": "code",
   "execution_count": 48,
   "id": "documented-request",
   "metadata": {},
   "outputs": [],
   "source": [
    "##\n",
    "# write your code below this comment\n",
    "##"
   ]
  },
  {
   "cell_type": "markdown",
   "id": "owned-enlargement",
   "metadata": {},
   "source": [
    "Im nachfolgenden ist eine Implementierung zu finden die numpy als mathematische Bibliothek verwendet um den artithmetischen Mittelwert (Durchschnitt) zu berechnen."
   ]
  },
  {
   "cell_type": "code",
   "execution_count": 50,
   "id": "exempt-keyboard",
   "metadata": {},
   "outputs": [],
   "source": [
    "import numpy as np\n",
    "\n",
    "##\n",
    "# function for calculating the mean of a list of grades\n",
    "##\n",
    "def mean_of_grade_list_numpy(list_of_grades):\n",
    "    return np.mean(list_of_grades)"
   ]
  },
  {
   "cell_type": "code",
   "execution_count": 51,
   "id": "packed-belarus",
   "metadata": {},
   "outputs": [
    {
     "data": {
      "text/plain": [
       "2.4"
      ]
     },
     "execution_count": 51,
     "metadata": {},
     "output_type": "execute_result"
    }
   ],
   "source": [
    "##\n",
    "# test code for reference implementation\n",
    "##\n",
    "mean_of_grade_list_numpy(grades)"
   ]
  },
  {
   "cell_type": "markdown",
   "id": "sorted-contemporary",
   "metadata": {},
   "source": [
    "## Aufgaben - bedingte Ausdrücke"
   ]
  },
  {
   "cell_type": "markdown",
   "id": "outside-teaching",
   "metadata": {},
   "source": [
    "1. Du musst eine Funktion schreiben, die einen Soll-Wert mit einem Ist-Wert vergleicht. Denke zum Beispiel an die Steuerung eines Heizungsthermostat, wenn die eingestellte Temperatur von 19 Grad Celsius zu niedrig ist muss die Heizung nach regeln. Wenn die Funktion eine \"1\" zurück gibt muss nachgeregelt werden, wenn eine \"0\" retourniert wird ist alles gut."
   ]
  },
  {
   "cell_type": "code",
   "execution_count": 67,
   "id": "cooked-mathematics",
   "metadata": {},
   "outputs": [],
   "source": [
    "##\n",
    "# write your code below here\n",
    "##\n",
    "def check_temperature(current_temperature, target_etmperature):\n",
    "    return 0"
   ]
  },
  {
   "cell_type": "code",
   "execution_count": 72,
   "id": "grand-affiliation",
   "metadata": {},
   "outputs": [
    {
     "name": "stdout",
     "output_type": "stream",
     "text": [
      "module test failed\n",
      "estimated:  1 meassured:  0\n"
     ]
    }
   ],
   "source": [
    "##\n",
    "# test code for check_temperature module\n",
    "##\n",
    "TEST_CURRENT_TEMP = 16\n",
    "TEST_CURRENT_TARGET = 19\n",
    "\n",
    "estimated_value = 1\n",
    "meassured_value = check_temperature(TEST_CURRENT_TEMP, TEST_CURRENT_TARGET)\n",
    "\n",
    "\n",
    "if (estimated_value != meassured_value):\n",
    "    print(\"MODULE TEST FAILED\")\n",
    "    print('estimated: ', estimated_value, 'meassured: ' , meassured_value)\n",
    "else:\n",
    "    print(\"TEST PASSED\")\n",
    "    print('estimated: ', estimated_value, 'meassured: ' , meassured_value)"
   ]
  },
  {
   "cell_type": "markdown",
   "id": "authentic-burden",
   "metadata": {},
   "source": [
    "1. Stell dir vor du musst ein Programm schreiben, welches den Notendruchschnitt für ein Fach in ('sehr gut', 'gut', 'befridigend' usw.) übersetzt. bei \",5\" wird aufgerundet d.h. bei einem Durchschnitt von 1,5 wird auf 2, also ein gut aufgerundet. Es reicht sich die erste Nachkommastelle anzusehen. Aber zum Glück musst du nicht ganz von vorne beginnen, dein Kollege hatte schon begonnen wurde dann aber befördert und du kannst seine Codebasis übernehmen."
   ]
  },
  {
   "cell_type": "code",
   "execution_count": 73,
   "id": "conditional-endorsement",
   "metadata": {},
   "outputs": [],
   "source": [
    "VERY_GOOD_LIMIT = 1.5\n",
    "GOOD_LIMIT = 2.5\n",
    "\n",
    "def grade_mapper(mean_of_grade):\n",
    "    if (mean_of_grade < VERY_GOOD_LIMIT):\n",
    "        return 'sehr gut'\n",
    "    elif ((mean_of_grade >= VERY_GOOD_LIMIT) & (mean_of_grade < GOOD_LIMIT)):\n",
    "        return 'gut'\n",
    "    else:\n",
    "        return 'schlechter als gut'\n",
    "        #todo"
   ]
  },
  {
   "cell_type": "code",
   "execution_count": 74,
   "id": "abstract-enemy",
   "metadata": {},
   "outputs": [
    {
     "data": {
      "text/plain": [
       "'schlechter als gut'"
      ]
     },
     "execution_count": 74,
     "metadata": {},
     "output_type": "execute_result"
    }
   ],
   "source": [
    "##\n",
    "# test for grade mapper\n",
    "##\n",
    "grade_mapper(2.59)"
   ]
  },
  {
   "cell_type": "code",
   "execution_count": null,
   "id": "quality-front",
   "metadata": {},
   "outputs": [],
   "source": []
  }
 ],
 "metadata": {
  "kernelspec": {
   "display_name": "Python 3",
   "language": "python",
   "name": "python3"
  },
  "language_info": {
   "codemirror_mode": {
    "name": "ipython",
    "version": 3
   },
   "file_extension": ".py",
   "mimetype": "text/x-python",
   "name": "python",
   "nbconvert_exporter": "python",
   "pygments_lexer": "ipython3",
   "version": "3.8.6"
  }
 },
 "nbformat": 4,
 "nbformat_minor": 5
}
