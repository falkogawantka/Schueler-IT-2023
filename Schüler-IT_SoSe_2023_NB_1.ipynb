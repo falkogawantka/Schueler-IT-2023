{
 "cells": [
  {
   "cell_type": "markdown",
   "id": "curious-table",
   "metadata": {},
   "source": [
    "# Schüler-IT Sommersemester 2023\n",
    "## Notebook 1: Kontrollstrukturen, Codestruktur und Code lesen"
   ]
  },
  {
   "cell_type": "markdown",
   "id": "informal-interference",
   "metadata": {},
   "source": [
    "Hallo liebe Schüllerinnen und Schüler. Das ist eine Jupyternotebook, in diesem könnt ihr lernen zu programmieren. Als Quelle zum Nachlesen kann die offizielle Python Referenz verwendet werden: https://docs.python.org/3/tutorial/ "
   ]
  },
  {
   "cell_type": "markdown",
   "id": "religious-president",
   "metadata": {},
   "source": [
    "## 1.Wiederholung\n",
    "Gegeben ist eine Funktionsdefinition. Diese Funktion nimmt eine Zahl und multipliziert diese mit dem Faktor 2. Schleifen in der Referenz: https://docs.python.org/3/tutorial/controlflow.html#for-statements"
   ]
  },
  {
   "cell_type": "code",
   "execution_count": 1,
   "id": "close-journey",
   "metadata": {},
   "outputs": [],
   "source": [
    "def multiplication_with_2(number): # input a number\n",
    "    return number * 2 # multiply with 2"
   ]
  },
  {
   "cell_type": "markdown",
   "id": "matched-momentum",
   "metadata": {},
   "source": [
    "### Aufgaben (Tasks)\n",
    "1. Schreibe den Funktionsaufruf für die obenstehende Funktion und lasse das Ergebnis in der Konsole anzeigen."
   ]
  },
  {
   "cell_type": "code",
   "execution_count": 1,
   "id": "micro-suspension",
   "metadata": {},
   "outputs": [],
   "source": [
    "##\n",
    "# write your code below this comment\n",
    "##"
   ]
  },
  {
   "cell_type": "markdown",
   "id": "animated-basket",
   "metadata": {},
   "source": [
    "2. Kommentiere die Funktion (multiplication_with_2) oben. Du kannst mit # am Ene der Zeile einen Kommentar einfügen. Ein Beispiel für einen Kommentar findest du im nächsten Code-Block."
   ]
  },
  {
   "cell_type": "code",
   "execution_count": 9,
   "id": "everyday-matthew",
   "metadata": {},
   "outputs": [],
   "source": [
    "age = 23 # das ist eine Zuweisung,  hierbei wird der Wert 23 in der Variable mit dem Namen age gespeichert"
   ]
  },
  {
   "cell_type": "markdown",
   "id": "statistical-space",
   "metadata": {},
   "source": [
    "3. Schreibe eine Funktion die, das Quadrat einer Zahl zurückgibt. Und nenne die Funktion \"square_number\"."
   ]
  },
  {
   "cell_type": "code",
   "execution_count": null,
   "id": "2b722eb2",
   "metadata": {},
   "outputs": [],
   "source": [
    "##\n",
    "# write your code below this comment\n",
    "##\n"
   ]
  },
  {
   "cell_type": "code",
   "execution_count": 5,
   "id": "minute-metro",
   "metadata": {},
   "outputs": [
    {
     "name": "stdout",
     "output_type": "stream",
     "text": [
      "Test: 99 * 99:  9801\n"
     ]
    }
   ],
   "source": [
    "##\n",
    "# test your code here\n",
    "##\n",
    "print(\"Test: 99 * 99: \", square_number(99))"
   ]
  },
  {
   "cell_type": "markdown",
   "id": "healthy-afternoon",
   "metadata": {},
   "source": [
    "4. Schreibe eine Funktion, die eine Liste mit Noten nimmt und genau eine Note und diese hinten an die Liste anfügt. Listenfunktionen findest du hier: https://docs.python.org/3/tutorial/introduction.html#lists "
   ]
  },
  {
   "cell_type": "code",
   "execution_count": null,
   "id": "efcd8da3",
   "metadata": {},
   "outputs": [],
   "source": [
    "##\n",
    "# write your code below this comment\n",
    "##\n",
    "grades = [1,2,3,1,4,2,2,4,4,1]"
   ]
  },
  {
   "cell_type": "code",
   "execution_count": 8,
   "id": "studied-grocery",
   "metadata": {},
   "outputs": [
    {
     "name": "stdout",
     "output_type": "stream",
     "text": [
      "list before:  [1, 2, 3, 1, 4, 2, 2, 4, 4, 1] , length:  10\n",
      "list after:  [1, 2, 3, 1, 4, 2, 2, 4, 4, 1, 3] , length:  11\n"
     ]
    }
   ],
   "source": [
    "##\n",
    "# test your code here\n",
    "##\n",
    "print(\"list before: \", grades, \", length: \", len(grades))\n",
    "add_grade_to_list(grades, 3)\n",
    "print(\"list after: \", grades, \", length: \", len(grades))"
   ]
  },
  {
   "cell_type": "markdown",
   "id": "civic-comparison",
   "metadata": {},
   "source": [
    "5. Schreibe eine Funktion die ein Element in einer Liste entfernen kann. Als Eingabe erwartet die Funktion einen Index von dem Element was entfernt werden soll. https://docs.python.org/3/tutorial/introduction.html#lists"
   ]
  },
  {
   "cell_type": "code",
   "execution_count": 75,
   "id": "consecutive-spirituality",
   "metadata": {},
   "outputs": [],
   "source": [
    "##\n",
    "# write your code below this comment\n",
    "##"
   ]
  },
  {
   "cell_type": "markdown",
   "id": "polyphonic-investigator",
   "metadata": {},
   "source": [
    "## 2.Kontrollstrukturen"
   ]
  },
  {
   "cell_type": "markdown",
   "id": "mighty-reducing",
   "metadata": {},
   "source": [
    "## Schleifen\n",
    "Schleifen sind für die wiederholte Ausfürhung von Funktionen und Ähnlichem nützlich. Hierzu habt ihr bereits die for-Schleife kennen gelernt. Diese ist im unteren Code-Block zu sehen."
   ]
  },
  {
   "cell_type": "code",
   "execution_count": 12,
   "id": "rental-timber",
   "metadata": {},
   "outputs": [
    {
     "name": "stdout",
     "output_type": "stream",
     "text": [
      "Hallo Schüler!\n",
      "Hallo Schüler!\n",
      "Hallo Schüler!\n",
      "Hallo Schüler!\n",
      "Hallo Schüler!\n"
     ]
    }
   ],
   "source": [
    "for i in range(0, 5):\n",
    "    print('Hallo Schüler!')"
   ]
  },
  {
   "cell_type": "markdown",
   "id": "grave-fairy",
   "metadata": {},
   "source": [
    "## Aufgaben-Schleifen\n",
    "1. Schreibe die folgende while-Schleife so um, dass 5 mal: \"Hallo Schüler!\" ausgegeben wird."
   ]
  },
  {
   "cell_type": "code",
   "execution_count": 2,
   "id": "confidential-drama",
   "metadata": {},
   "outputs": [],
   "source": [
    "i = 5\n",
    "while not True:\n",
    "    print('Hallo Schüler')"
   ]
  },
  {
   "cell_type": "markdown",
   "id": "gentle-separation",
   "metadata": {},
   "source": [
    "2. Was passiert wenn du bei der Schleife das not entfernst? (Weißt du wie man eine Endlosschleife abbricht?)"
   ]
  },
  {
   "cell_type": "code",
   "execution_count": 3,
   "id": "heavy-trader",
   "metadata": {},
   "outputs": [],
   "source": [
    "while not True:\n",
    "    print('Hallo Schüler')"
   ]
  },
  {
   "cell_type": "markdown",
   "id": "polar-insert",
   "metadata": {},
   "source": [
    "3. Schreibe eine Schleife (for oder while) die dir 17 mal \"deinen Namen\" ausgibt!"
   ]
  },
  {
   "cell_type": "code",
   "execution_count": 4,
   "id": "uniform-capacity",
   "metadata": {},
   "outputs": [],
   "source": [
    "##\n",
    "# write your code below this comment\n",
    "##"
   ]
  },
  {
   "cell_type": "markdown",
   "id": "nutritional-framing",
   "metadata": {},
   "source": [
    "4. Schreibe eine Funktion, welche n-mal (freiwählbare, ganze Zahl) alle 500 Millisekunden \"Hallo\" ausgibt! Hilfe die Funktion sleep in dem Modul time legt den laufenden Thread für eine Anzahl von Sekunden schlafen. Als Beispiel wenn man time.sleep(0.250) aufruft wird die Abarbeitung des Thread für 250 Millisekunden unterbrochen. Wenn man time.sleep(1) aufruft pasusiert der Thread für 1 Sekunde. Tutorial zu sleep: https://www.digitalocean.com/community/tutorials/python-time-sleep"
   ]
  },
  {
   "cell_type": "code",
   "execution_count": 5,
   "id": "compressed-tackle",
   "metadata": {},
   "outputs": [],
   "source": [
    "##\n",
    "# write your code below this comment\n",
    "##\n",
    "import time\n",
    "\n",
    "def repeat_hello(n: int):\n",
    "   pass"
   ]
  },
  {
   "cell_type": "code",
   "execution_count": 6,
   "id": "printable-greece",
   "metadata": {},
   "outputs": [],
   "source": [
    "##\n",
    "# write your test code here\n",
    "##\n",
    "repeat_hello(5)"
   ]
  },
  {
   "cell_type": "markdown",
   "id": "statewide-typing",
   "metadata": {},
   "source": [
    "5. Stell dir vor du schreibst ein Programm für eine Anzeige die immer läuft. Du sollst den Namen der Produktionsmaschine \"T518XK\" alle 2 Sekunden anzeigen. Welche Schleife nutzt du? Schreibe den Code für den Programm und mache sinnvolle Kommentare."
   ]
  },
  {
   "cell_type": "code",
   "execution_count": 7,
   "id": "least-chancellor",
   "metadata": {},
   "outputs": [],
   "source": [
    "##\n",
    "# write your code below this comment\n",
    "##\n",
    "def repeat_machine_number():\n",
    "    pass"
   ]
  },
  {
   "cell_type": "code",
   "execution_count": 8,
   "id": "incoming-sympathy",
   "metadata": {},
   "outputs": [],
   "source": [
    "##\n",
    "# write your test code here\n",
    "##\n",
    "repeat_machine_number()"
   ]
  },
  {
   "cell_type": "markdown",
   "id": "outside-reliance",
   "metadata": {},
   "source": [
    "## Bedingungen"
   ]
  },
  {
   "cell_type": "markdown",
   "id": "bored-ability",
   "metadata": {},
   "source": [
    "Sicherlich kannst du dich noch an das Beispiel mit den zehn Schulnoten errinern. Schreibe eine Funktion ohne Mathefunktionen, die eine Liste von Noten nimmt und den Durchschnitt ermittelt."
   ]
  },
  {
   "cell_type": "code",
   "execution_count": 12,
   "id": "devoted-seattle",
   "metadata": {},
   "outputs": [],
   "source": [
    "grades = [1,2,3,1,4,2,2,4,4,1]"
   ]
  },
  {
   "cell_type": "code",
   "execution_count": 13,
   "id": "variable-italic",
   "metadata": {},
   "outputs": [],
   "source": [
    "##\n",
    "# write your code below this comment\n",
    "##\n",
    "def calc_mean_grade(list_of_grades: list):\n",
    "    pass"
   ]
  },
  {
   "cell_type": "markdown",
   "id": "defensive-pepper",
   "metadata": {},
   "source": [
    "Im nachfolgenden ist eine Implementierung zu finden die numpy als mathematische Bibliothek verwendet um den artithmetischen Mittelwert (Durchschnitt) zu berechnen."
   ]
  },
  {
   "cell_type": "code",
   "execution_count": 14,
   "id": "armed-initial",
   "metadata": {},
   "outputs": [],
   "source": [
    "import numpy as np\n",
    "\n",
    "##\n",
    "# function for calculating the mean of a list of grades\n",
    "##\n",
    "def mean_of_grade_list_numpy(list_of_grades):\n",
    "    return np.mean(list_of_grades)"
   ]
  },
  {
   "cell_type": "code",
   "execution_count": 15,
   "id": "scenic-membership",
   "metadata": {},
   "outputs": [
    {
     "name": "stdout",
     "output_type": "stream",
     "text": [
      "my implementation test:  None\n",
      "reference implementation test:  2.4\n"
     ]
    }
   ],
   "source": [
    "##\n",
    "# test code for reference implementation\n",
    "##\n",
    "print(\"my implementation test: \", calc_mean_grade(grades))\n",
    "print(\"reference implementation test: \", mean_of_grade_list_numpy(grades))"
   ]
  },
  {
   "cell_type": "markdown",
   "id": "disabled-indication",
   "metadata": {},
   "source": [
    "## Aufgaben - bedingte Ausdrücke"
   ]
  },
  {
   "cell_type": "markdown",
   "id": "fuzzy-needle",
   "metadata": {},
   "source": [
    "1. Du musst eine Funktion schreiben, die einen Soll-Wert mit einem Ist-Wert vergleicht. Denke zum Beispiel an die Steuerung eines Heizungsthermostat, wenn die eingestellte Temperatur von 19 Grad Celsius zu niedrig ist muss die Heizung nach regeln. Wenn die Funktion eine \"1\" zurück gibt muss nachgeregelt werden, wenn eine \"0\" retourniert wird ist alles gut."
   ]
  },
  {
   "cell_type": "code",
   "execution_count": 16,
   "id": "color-alpha",
   "metadata": {},
   "outputs": [],
   "source": [
    "##\n",
    "# write your code below here\n",
    "##\n",
    "def check_temperature(current_temperature, target_etmperature):\n",
    "    return 0"
   ]
  },
  {
   "cell_type": "code",
   "execution_count": 17,
   "id": "residential-spelling",
   "metadata": {},
   "outputs": [
    {
     "name": "stdout",
     "output_type": "stream",
     "text": [
      "MODULE TEST FAILED\n",
      "estimated:  1 meassured:  0\n"
     ]
    }
   ],
   "source": [
    "##\n",
    "# test code for check_temperature module\n",
    "##\n",
    "TEST_CURRENT_TEMP = 16\n",
    "TEST_CURRENT_TARGET = 19\n",
    "\n",
    "estimated_value = 1\n",
    "meassured_value = check_temperature(TEST_CURRENT_TEMP, TEST_CURRENT_TARGET)\n",
    "\n",
    "\n",
    "if (estimated_value != meassured_value):\n",
    "    print(\"MODULE TEST FAILED\")\n",
    "    print('estimated: ', estimated_value, 'meassured: ' , meassured_value)\n",
    "else:\n",
    "    print(\"TEST PASSED\")\n",
    "    print('estimated: ', estimated_value, 'meassured: ' , meassured_value)"
   ]
  },
  {
   "cell_type": "markdown",
   "id": "pending-rental",
   "metadata": {},
   "source": [
    "1. Stell dir vor du musst ein Programm schreiben, welches den Notendruchschnitt für ein Fach in ('sehr gut', 'gut', 'befridigend' usw.) übersetzt. bei \",5\" wird aufgerundet d.h. bei einem Durchschnitt von 1,5 wird auf 2, also ein gut aufgerundet. Es reicht sich die erste Nachkommastelle anzusehen. Aber zum Glück musst du nicht ganz von vorne beginnen, dein Kollege hatte schon begonnen wurde dann aber befördert und du kannst seine Codebasis übernehmen. Hinweis nutzt [deepl](https://www.deepl.com/translator) zum übersetzen. "
   ]
  },
  {
   "cell_type": "code",
   "execution_count": 18,
   "id": "minute-damage",
   "metadata": {},
   "outputs": [],
   "source": [
    "VERY_GOOD_LIMIT = 1.5\n",
    "GOOD_LIMIT = 2.5\n",
    "\n",
    "def grade_mapper(mean_of_grade):\n",
    "    if (mean_of_grade < VERY_GOOD_LIMIT):\n",
    "        return 'sehr gut'\n",
    "    elif ((mean_of_grade >= VERY_GOOD_LIMIT) and (mean_of_grade < GOOD_LIMIT)):\n",
    "        return 'gut'\n",
    "    else:\n",
    "        return 'schlechter als gut'\n",
    "        #todo"
   ]
  },
  {
   "cell_type": "code",
   "execution_count": 19,
   "id": "delayed-message",
   "metadata": {},
   "outputs": [
    {
     "data": {
      "text/plain": [
       "'schlechter als gut'"
      ]
     },
     "execution_count": 19,
     "metadata": {},
     "output_type": "execute_result"
    }
   ],
   "source": [
    "##\n",
    "# test for grade mapper\n",
    "##\n",
    "grade_mapper(3.59)"
   ]
  },
  {
   "cell_type": "markdown",
   "id": "b5bb3926",
   "metadata": {},
   "source": [
    "## 3. Code lesen\n",
    "Hier geht es darum einfache Code-Strukturen zu lesen und weitestgehend zu verstehen."
   ]
  },
  {
   "cell_type": "code",
   "execution_count": 20,
   "id": "9cbbc79f",
   "metadata": {},
   "outputs": [
    {
     "ename": "SyntaxError",
     "evalue": "invalid syntax (<ipython-input-20-6d30d550b57b>, line 130)",
     "output_type": "error",
     "traceback": [
      "\u001b[1;36m  File \u001b[1;32m\"<ipython-input-20-6d30d550b57b>\"\u001b[1;36m, line \u001b[1;32m130\u001b[0m\n\u001b[1;33m    self.__generated_person.set_address(address + zip_code + \" \" + city) ...\u001b[0m\n\u001b[1;37m                                                                         ^\u001b[0m\n\u001b[1;31mSyntaxError\u001b[0m\u001b[1;31m:\u001b[0m invalid syntax\n"
     ]
    }
   ],
   "source": [
    "import random\n",
    "from typing import List\n",
    "\n",
    "from multipledispatch import dispatch\n",
    "\n",
    "from data_generator.auxilliary_modules.RandomnessGenerator import RandomnessGenerator\n",
    "from data_generator.auxilliary_modules.FinalGradesGenerator import FinalGradesGenerator\n",
    "from data_generator.auxilliary_modules.StatisticsModule import StatisticsModule\n",
    "from data_generator.data_structures.Person import Person\n",
    "from data_generator.data_structures.SkillPLA import SkillPLA\n",
    "from data_generator.data_structures.SkillAPP import SkillAPP\n",
    "from data_generator.data_structures.SkillLAN import SkillLAN\n",
    "from data_generator.data_structures.Date import Date\n",
    "from data_generator.data_structures.SchoolInfo import SchoolInfo\n",
    "from data_generator.data_structures.UniversityInfo import UniversityInfo\n",
    "from data_generator.data_structures.ApprenticeshipInfo import ApprenticeshipInfo\n",
    "from data_generator.data_structures.SchoolTypeE import SchoolTypeE\n",
    "from data_generator.data_structures.GraduationE import GraduationE\n",
    "from data_generator.data_structures.ApprenticeshipTypeE import ApprenticeshipTypeE\n",
    "from persistence.mongodb.repositories.ForeNameRepository import ForeNameRepository\n",
    "from persistence.mongodb.repositories.SurNameRepository import SurNameRepository\n",
    "from persistence.mongodb.repositories.SchoolRepository import SchoolRepository\n",
    "from persistence.mongodb.repositories.ApprenticeshipRepository import ApprenticeshipRepository\n",
    "from persistence.mongodb.repositories.ApprenticeshipTypeRepository import ApprenticeshipTypeRepository\n",
    "from persistence.mongodb.repositories.BicJobsRepositoryDraft import BicJobsRepositoryDraft\n",
    "from persistence.mongodb.repositories.CityRepositository import CityRepository\n",
    "from persistence.mongodb.repositories.CompanyRepository import CompanyRepository\n",
    "from persistence.mongodb.repositories.UniversityRepository import UniversityRepository\n",
    "from persistence.mongodb.entities.schools.School import School\n",
    "from data_crawler.crawler.skill_crawler.ProgrammingLanguages import ProgrammingLanguages\n",
    "from data_crawler.crawler.skill_crawler.ApplicationCrawler import ApplicationCrawler\n",
    "from data_crawler.crawler.skill_crawler.LanguageCrawler import LanguageCrawler\n",
    "from data_crawler.matching.ApprenticeshipCompanyMatching import ApprenticeshipCompanyMatching\n",
    "from data_crawler.matching.ApprenticeshipSchoolMatching import ApprenticeshipSchoolMatching\n",
    "from data_crawler.matching.ApprenticeshipJobMatching import ApprenticeshipJobMatching\n",
    "from data_crawler.matching.SkillJobMatching import SkillJobMatching\n",
    "from data_crawler.crawler.course_crawler.ComputerScienceCrawler import ComputerScienceCrawler\n",
    "from data_generator.data_structures.Job import Job\n",
    "\n",
    "string_spec_needs: str = \"Förder\"\n",
    "\n",
    "\n",
    "class PersonGenerator:\n",
    "    CURRENT_YEAR = 2021\n",
    "\n",
    "    def __init__(self, enable_log=True, grades=None):\n",
    "        self.__generated_person = None\n",
    "        self.__rand_module = RandomnessGenerator()\n",
    "        self.__final_grades_module = FinalGradesGenerator()\n",
    "        self.__stat_module = StatisticsModule()\n",
    "        self.__forename_repo = ForeNameRepository()\n",
    "        self.__surname_repo = SurNameRepository()\n",
    "        self.__school_repo = SchoolRepository(enable_log)\n",
    "        self.__apprenticeship_repo = ApprenticeshipRepository(enable_log)\n",
    "        self.__apprenticeship_type_repo = ApprenticeshipTypeRepository(enable_log)\n",
    "        self.__apprenticeship_bic = BicJobsRepositoryDraft(enable_log)\n",
    "        self.__company_repo = CompanyRepository(enable_log)\n",
    "        self.__apprenticeship_company_matching = ApprenticeshipCompanyMatching()\n",
    "        self.__apprenticeship_school_matching = ApprenticeshipSchoolMatching()\n",
    "        self.__apprenticeship_job_matching = ApprenticeshipJobMatching()\n",
    "        self.__skill_job_matching = SkillJobMatching()\n",
    "        self.__city_repo = CityRepository(enable_log)\n",
    "        self.__university_repo = UniversityRepository(enable_log)\n",
    "        self.__school_grades = grades\n",
    "        self.__pla_generator = ProgrammingLanguages()\n",
    "        self.__app_generator = ApplicationCrawler()\n",
    "        self.__lan_generator = LanguageCrawler()\n",
    "        self.__computer_science_generator = ComputerScienceCrawler()\n",
    "\n",
    "    def get_person(self) -> Person:\n",
    "        return self.__generated_person\n",
    "\n",
    "    def generate_new_person(self):\n",
    "        new_person = Person()\n",
    "        self.__generated_person = new_person\n",
    "\n",
    "    @dispatch()\n",
    "    def create_forename(self):\n",
    "        person_record = self.__forename_repo.get_random_forename()\n",
    "        person_name = person_record.name\n",
    "        person_sex = person_record.gender\n",
    "        citizenship_tld_code = person_record.country\n",
    "        self.__generated_person.set_forenames(person_name)\n",
    "        self.__generated_person.set_sex(person_sex)\n",
    "        self.__generated_person.set_citizenship(citizenship_tld_code)\n",
    "\n",
    "    @dispatch(int, str, str)\n",
    "    def create_forename(self, number_of_forenames, sex, tld_code):\n",
    "        result = self.__forename_repo.find_all_forenames_by_country_and_gender(tld_code, sex)\n",
    "        randoms = list(range(len(result)))\n",
    "        for i in range(0, number_of_forenames):\n",
    "            random.shuffle(randoms)\n",
    "        new = []\n",
    "        for i in range(0, number_of_forenames):\n",
    "            new.append(result[randoms[i]])\n",
    "        for i in range(0, number_of_forenames):\n",
    "            self.__generated_person.set_forenames(new[i].name)\n",
    "        self.__generated_person.set_sex(new[0].gender)\n",
    "        self.__generated_person.set_citizenship(new[0].country)\n",
    "\n",
    "    def create_surname(self):\n",
    "        surname_record = self.__surname_repo.get_random_surname()\n",
    "        self.__generated_person.set_surname(surname_record.name)\n",
    "\n",
    "    def create_mail(self):\n",
    "        full_name = ''\n",
    "        full_name += self.__generated_person.get_surname()\n",
    "        full_name += self.__generated_person.get_forenames()[0]\n",
    "        mail_address = self.__rand_module.generate_email_by_name_of_person_and_country_tld(full_name, \"de\")\n",
    "        self.__generated_person.set_mail(mail_address)\n",
    "\n",
    "    def create_phone_entry(self):\n",
    "        phone_entry = self.__rand_module.generate_phone_number(\"de_DE\")\n",
    "        self.__generated_person.set_phone(phone_entry)\n",
    "\n",
    "    def create_address(self):\n",
    "        street_and_number = self.__rand_module.generate_street(\"de_DE\")\n",
    "        city_and_zip = self.__city_repo.find_cities_by_name(self.__generated_person.get_place_of_birth())\n",
    "        address = street_and_number + \"\\n\"\n",
    "        try:\n",
    "            obj = city_and_zip[0]\n",
    "            zip_code = str(obj.post_code)\n",
    "            if len(zip_code) == 4:\n",
    "                zip_code = \"0\" + zip_code\n",
    "            city = obj.name\n",
    "        except IndexError:  # indexError ist correct exception\n",
    "            zip_code = str(self.__rand_module.generate_random_int(0, 4)) + str(\n",
    "                self.__rand_module.generate_random_int(1000, 4545))\n",
    "            city = self.__generated_person.get_place_of_birth()\n",
    "        self.__generated_person.set_address(address + zip_code + \" \" + city) ..."
   ]
  },
  {
   "cell_type": "code",
   "execution_count": null,
   "id": "c895f41d",
   "metadata": {},
   "outputs": [],
   "source": []
  }
 ],
 "metadata": {
  "kernelspec": {
   "display_name": "Python 3",
   "language": "python",
   "name": "python3"
  },
  "language_info": {
   "codemirror_mode": {
    "name": "ipython",
    "version": 3
   },
   "file_extension": ".py",
   "mimetype": "text/x-python",
   "name": "python",
   "nbconvert_exporter": "python",
   "pygments_lexer": "ipython3",
   "version": "3.8.8"
  }
 },
 "nbformat": 4,
 "nbformat_minor": 5
}
