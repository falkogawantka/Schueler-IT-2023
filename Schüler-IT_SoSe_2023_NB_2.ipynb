{
 "cells": [
  {
   "cell_type": "markdown",
   "id": "d7051d09",
   "metadata": {},
   "source": [
    "# Schüler-IT Sommersemester 2023\n",
    "## Notebook 2: Funktionen und Bibliotheken"
   ]
  },
  {
   "cell_type": "markdown",
   "id": "85aa1579",
   "metadata": {},
   "source": [
    "Hallo liebe Schüllerinnen und Schüler. Das ist eine Jupyternotebook, in diesem könnt ihr lernen zu programmieren. Als Quelle zum Nachlesen kann die offizielle Python Referenz verwendet werden: https://docs.python.org/3/tutorial/ "
   ]
  },
  {
   "cell_type": "markdown",
   "id": "dfcde17d",
   "metadata": {},
   "source": [
    "## 1. Wiederholungen "
   ]
  },
  {
   "cell_type": "code",
   "execution_count": 1,
   "id": "585ccc38",
   "metadata": {},
   "outputs": [],
   "source": [
    "def qubic(n: float) -> float:\n",
    "    return n * n * n"
   ]
  },
  {
   "cell_type": "markdown",
   "id": "c6373b99",
   "metadata": {},
   "source": [
    "### 1. Aufgabe\n",
    "Bitte kommentiere die obenstehende Funktion. Und schreibe den entsprechenden Funktionsaufruf in die folgende Zelle und berechne die Kubikzahl von 44,5. "
   ]
  },
  {
   "cell_type": "code",
   "execution_count": 2,
   "id": "d2b24ebf",
   "metadata": {},
   "outputs": [],
   "source": [
    "##\n",
    "# write your code below this comment\n",
    "##"
   ]
  },
  {
   "cell_type": "markdown",
   "id": "eb8649fb",
   "metadata": {},
   "source": [
    "### 2. Aufgabe\n",
    "Sieh dir die folgende Funktion genauer an. \n",
    "1. Was macht diese? \n",
    "2. Was bedeutet \": str\" hinter der Variablen? \n",
    "3. Was bedeutet \" -> str\" hinter der Liste Eingabeparametern die, die Funktion bekommt? \n",
    "4.Sind diese angaben notwendig?"
   ]
  },
  {
   "cell_type": "code",
   "execution_count": 3,
   "id": "7c76b358",
   "metadata": {},
   "outputs": [],
   "source": [
    "def print_hello(name: str) -> str:\n",
    "    return \"Hello \" + name"
   ]
  },
  {
   "cell_type": "markdown",
   "id": "08a8b67d",
   "metadata": {},
   "source": [
    "Nimm dir bitte einen Moment Zeit und doppelklicke in diese Zelle und versuche die Fragen zu beantworten:\n",
    "\n",
    "Antwort 1: Test 123\n",
    "\n",
    "Antwort 2:\n",
    "\n",
    "Antwort 3:\n",
    "\n",
    "Antwort 4:"
   ]
  },
  {
   "cell_type": "markdown",
   "id": "26f592d3",
   "metadata": {},
   "source": [
    "Sieh dir die folgenden Funktionsaufrufe an und versuche vor dem Aufruf zu verstehen was sie ausgeben! Sieh dir den advanced test an und überlege dir was bei diesem Test die Besonderheit ist und überlege wie der Test erfolgreich wird. Informationen zu Try findest du hier https://www.w3schools.com/python/python_try_except.asp . Wenn du wissen willst wie man den Fehler verhindern kann, findest du hier etwas über Castings heraus https://www.w3schools.com/python/python_casting.asp ."
   ]
  },
  {
   "cell_type": "code",
   "execution_count": 4,
   "id": "6145232b",
   "metadata": {},
   "outputs": [
    {
     "name": "stdout",
     "output_type": "stream",
     "text": [
      "Hello Albrecht\n",
      "Hello 123\n",
      "Hello Hello Urmel\n",
      "====================\n",
      "error\n"
     ]
    }
   ],
   "source": [
    "##\n",
    "# simple tests\n",
    "##\n",
    "print(print_hello(\"Albrecht\"))\n",
    "print(print_hello(\"123\"))\n",
    "print(print_hello(print_hello('Urmel')))\n",
    "print(\"====================\")\n",
    "\n",
    "##\n",
    "# advanced test\n",
    "##\n",
    "try:\n",
    "    print(print_hello(123))\n",
    "except:\n",
    "    print(\"error\")"
   ]
  },
  {
   "cell_type": "markdown",
   "id": "1a8dc82f",
   "metadata": {},
   "source": [
    "## 2. Funktionen und Tests"
   ]
  },
  {
   "cell_type": "markdown",
   "id": "2e152382",
   "metadata": {},
   "source": [
    "### 1. Aufgabe \n",
    "Gegeben ist die folgende Funktion. Schreibe in die Zelle für den Testcode 3 Test (Aufrufe) mit Namen deiner Wahl."
   ]
  },
  {
   "cell_type": "code",
   "execution_count": 5,
   "id": "cddff322",
   "metadata": {},
   "outputs": [],
   "source": [
    "def print_my_name(my_name):\n",
    "    result = \"Hello \"\n",
    "    return result + my_name"
   ]
  },
  {
   "cell_type": "code",
   "execution_count": 6,
   "id": "09642779",
   "metadata": {},
   "outputs": [],
   "source": [
    "##\n",
    "# test your code here\n",
    "##"
   ]
  },
  {
   "cell_type": "markdown",
   "id": "196e1ac7",
   "metadata": {},
   "source": [
    "### 2. Aufgabe \n",
    "Schreibe eine Test Funktion, welche die Ausgaben von \"print_hello()\" und \"print_my_name()\" für den selben Eingabeparameter überprüft und True zurückliefert, wenn Rückgabewerte gleich sind. Weitere Informationen zu Wahrheitswerten True etc findest du hier https://www.w3schools.com/python/python_booleans.asp"
   ]
  },
  {
   "cell_type": "code",
   "execution_count": 7,
   "id": "ad040466",
   "metadata": {},
   "outputs": [],
   "source": [
    "def compare_functions(result_func_1, result_func_2):\n",
    "    return False"
   ]
  },
  {
   "cell_type": "markdown",
   "id": "f48c4620",
   "metadata": {},
   "source": [
    "Unten ist eine Liste mit Messungen zu sehen. Du sollst für deine Firma eine Funktion implementieren, welche dir die größte Zahl zurückgibt, um zu wissen wie hoch der maximale Umsatz war."
   ]
  },
  {
   "cell_type": "code",
   "execution_count": 8,
   "id": "a26c7473",
   "metadata": {},
   "outputs": [],
   "source": [
    "measurement_list = [11, 2, 13, 18, 14, 7, 2, 4, 4, 1, 12, 15, 20, 1, 41, 76, 1, 90, 101]\n",
    "\n",
    "##\n",
    "# write your code below this comment\n",
    "##\n",
    "def find_maximum(input_list):\n",
    "    return -1"
   ]
  },
  {
   "cell_type": "code",
   "execution_count": 9,
   "id": "fcd2997c",
   "metadata": {},
   "outputs": [
    {
     "ename": "NameError",
     "evalue": "name 'measurement' is not defined",
     "output_type": "error",
     "traceback": [
      "\u001b[1;31m---------------------------------------------------------------------------\u001b[0m",
      "\u001b[1;31mNameError\u001b[0m                                 Traceback (most recent call last)",
      "\u001b[1;32m<ipython-input-9-07e6636a1855>\u001b[0m in \u001b[0;36m<module>\u001b[1;34m\u001b[0m\n\u001b[0;32m      2\u001b[0m \u001b[1;31m# test your code here\u001b[0m\u001b[1;33m\u001b[0m\u001b[1;33m\u001b[0m\u001b[1;33m\u001b[0m\u001b[0m\n\u001b[0;32m      3\u001b[0m \u001b[1;31m##\u001b[0m\u001b[1;33m\u001b[0m\u001b[1;33m\u001b[0m\u001b[1;33m\u001b[0m\u001b[0m\n\u001b[1;32m----> 4\u001b[1;33m \u001b[1;32mif\u001b[0m \u001b[1;33m(\u001b[0m\u001b[1;36m101\u001b[0m \u001b[1;33m==\u001b[0m \u001b[0mfind_maximum\u001b[0m\u001b[1;33m(\u001b[0m\u001b[0mmeasurement\u001b[0m\u001b[1;33m)\u001b[0m\u001b[1;33m)\u001b[0m\u001b[1;33m:\u001b[0m\u001b[1;33m\u001b[0m\u001b[1;33m\u001b[0m\u001b[0m\n\u001b[0m\u001b[0;32m      5\u001b[0m     \u001b[0mprint\u001b[0m\u001b[1;33m(\u001b[0m\u001b[1;34m\"success\"\u001b[0m\u001b[1;33m)\u001b[0m\u001b[1;33m\u001b[0m\u001b[1;33m\u001b[0m\u001b[0m\n\u001b[0;32m      6\u001b[0m \u001b[1;32melse\u001b[0m\u001b[1;33m:\u001b[0m\u001b[1;33m\u001b[0m\u001b[1;33m\u001b[0m\u001b[0m\n",
      "\u001b[1;31mNameError\u001b[0m: name 'measurement' is not defined"
     ]
    }
   ],
   "source": [
    "##\n",
    "# test your code here\n",
    "##\n",
    "if (101 == find_maximum(measurement)):\n",
    "    print(\"success\")\n",
    "else:\n",
    "    print(\"TEST FAILED\")"
   ]
  },
  {
   "cell_type": "markdown",
   "id": "1ba0fdd4",
   "metadata": {},
   "source": [
    "## 3. Bibliotheken"
   ]
  },
  {
   "cell_type": "markdown",
   "id": "884d9e55",
   "metadata": {},
   "source": [
    "### 1. Aufgabe\n",
    "Du sollst die Bibliothek von einem netten Kollegen benutzen um zu der measurement Liste folgende Elemente hinzuzufügen 21, 66, 45, 132. Die Bibliothek ist hier hinterlegt: https://drive.google.com/drive/folders/1nA9EYW8F2FoxCGgrK66-4iqcbVdLzU7s?usp=share_link . Hinweis du musst diese Datei herunterladen und in deine Jupyter-Notebook Umgebung hochladen in den Ordner, in dem das aktuelle Notebook liegt! Danach kannst du den untenstehenden Code ausführen."
   ]
  },
  {
   "cell_type": "code",
   "execution_count": 10,
   "id": "0f2d8709",
   "metadata": {},
   "outputs": [],
   "source": [
    "from list_library import get_empty_list, add_measurement_to_list, remove_item_from_list_by_index\n",
    "\n",
    "add_measurement_to_list(measurement_list, 21) # add 21 to list"
   ]
  },
  {
   "cell_type": "code",
   "execution_count": 11,
   "id": "a9ddc338",
   "metadata": {},
   "outputs": [
    {
     "name": "stdout",
     "output_type": "stream",
     "text": [
      "[11, 2, 13, 18, 14, 7, 2, 4, 4, 1, 12, 15, 20, 1, 41, 76, 1, 90, 101, 21]\n"
     ]
    }
   ],
   "source": [
    "##\n",
    "# test\n",
    "##\n",
    "print(measurement_list)"
   ]
  },
  {
   "cell_type": "markdown",
   "id": "34266d9f",
   "metadata": {},
   "source": [
    "### 2. Aufgabe\n",
    "Du sollst die Liste leeren in dem du \"measurements\" die leere Liste von \"get_empty_list\" übergibst."
   ]
  },
  {
   "cell_type": "code",
   "execution_count": 12,
   "id": "bf91aba5",
   "metadata": {},
   "outputs": [],
   "source": [
    "##\n",
    "# write your code below here\n",
    "##"
   ]
  },
  {
   "cell_type": "code",
   "execution_count": 13,
   "id": "700fb226",
   "metadata": {},
   "outputs": [
    {
     "data": {
      "text/plain": [
       "[11, 2, 13, 18, 14, 7, 2, 4, 4, 1, 12, 15, 20, 1, 41, 76, 1, 90, 101, 21]"
      ]
     },
     "execution_count": 13,
     "metadata": {},
     "output_type": "execute_result"
    }
   ],
   "source": [
    "measurement_list"
   ]
  },
  {
   "cell_type": "markdown",
   "id": "c78e7632",
   "metadata": {},
   "source": [
    "### 3. Aufgabe \n",
    "Bindes die öffentliche Bibliothek \"pandas\" ein und lege als Alias \"pd\" fest."
   ]
  },
  {
   "cell_type": "code",
   "execution_count": 14,
   "id": "9fbc74a9",
   "metadata": {},
   "outputs": [
    {
     "name": "stderr",
     "output_type": "stream",
     "text": [
      "C:\\Users\\fga\\anaconda3\\lib\\site-packages\\numpy\\_distributor_init.py:30: UserWarning: loaded more than 1 DLL from .libs:\n",
      "C:\\Users\\fga\\anaconda3\\lib\\site-packages\\numpy\\.libs\\libopenblas.FB5AE2TYXYH2IJRDKGDGQ3XBKLKTF43H.gfortran-win_amd64.dll\n",
      "C:\\Users\\fga\\anaconda3\\lib\\site-packages\\numpy\\.libs\\libopenblas.PYQHXLVVQ7VESDPUVUADXEVJOBGHJPAY.gfortran-win_amd64.dll\n",
      "  warnings.warn(\"loaded more than 1 DLL from .libs:\"\n"
     ]
    }
   ],
   "source": [
    "import pandas as pd"
   ]
  },
  {
   "cell_type": "markdown",
   "id": "40260837",
   "metadata": {},
   "source": [
    "### 4. Aufgabe\n",
    "Lies die Datei \"Train_CA.csv\" ein. Sie befindet sich hier: https://drive.google.com/drive/folders/1nA9EYW8F2FoxCGgrK66-4iqcbVdLzU7s?usp=share_link . Hinweis: du musst sie herunterladen und in dein Notebook hochladen. Weitere Informationen zu Pandas findest du hier: https://www.w3schools.com/python/pandas/pandas_csv.asp . Und lasse die mit der Funktion \"head()\" die ersten 2 Zeilen ausgeben."
   ]
  },
  {
   "cell_type": "code",
   "execution_count": 15,
   "id": "2616e30c",
   "metadata": {},
   "outputs": [
    {
     "ename": "NameError",
     "evalue": "name 'data' is not defined",
     "output_type": "error",
     "traceback": [
      "\u001b[1;31m---------------------------------------------------------------------------\u001b[0m",
      "\u001b[1;31mNameError\u001b[0m                                 Traceback (most recent call last)",
      "\u001b[1;32m<ipython-input-15-3c28b95e4861>\u001b[0m in \u001b[0;36m<module>\u001b[1;34m\u001b[0m\n\u001b[0;32m      4\u001b[0m \u001b[1;31m##\u001b[0m\u001b[1;33m\u001b[0m\u001b[1;33m\u001b[0m\u001b[1;33m\u001b[0m\u001b[0m\n\u001b[0;32m      5\u001b[0m \u001b[1;33m\u001b[0m\u001b[0m\n\u001b[1;32m----> 6\u001b[1;33m \u001b[0mdata\u001b[0m\u001b[1;33m\u001b[0m\u001b[1;33m\u001b[0m\u001b[0m\n\u001b[0m",
      "\u001b[1;31mNameError\u001b[0m: name 'data' is not defined"
     ]
    }
   ],
   "source": [
    "##\n",
    "# write your code below this comment\n",
    "# use the variable data to store your input data\n",
    "##\n",
    "\n",
    "data"
   ]
  },
  {
   "cell_type": "markdown",
   "id": "1e57a01a",
   "metadata": {},
   "source": [
    "### 5. Aufgabe\n",
    "Lies die folgende Datei mit dem Namen \"produkt_klima_tag_18800101_20211231_01684.txt\" ein. Diese findest du hier: https://drive.google.com/drive/folders/1nA9EYW8F2FoxCGgrK66-4iqcbVdLzU7s?usp=share_link ."
   ]
  },
  {
   "cell_type": "code",
   "execution_count": 16,
   "id": "570a23d9",
   "metadata": {},
   "outputs": [],
   "source": [
    "##\n",
    "# write your code below this comment\n",
    "##\n",
    "\n",
    "grades = None"
   ]
  },
  {
   "cell_type": "markdown",
   "id": "484cf604",
   "metadata": {},
   "source": [
    "Lasse dir die obersten 2 Zeilen der Tabelle ausgeben mit dem Befehl \".head(2)\" denn du an deinem Tabellen Objekt anfügst."
   ]
  },
  {
   "cell_type": "code",
   "execution_count": 17,
   "id": "63b45d21",
   "metadata": {},
   "outputs": [],
   "source": [
    "##\n",
    "# write your code below here\n",
    "##"
   ]
  },
  {
   "cell_type": "markdown",
   "id": "878a320c",
   "metadata": {},
   "source": [
    "### 6. Aufgabe\n",
    "Schreibe eine Funktion, die eine Zeichenkette in einen Datei schreiben kann. Informationen findest du hier: https://www.w3schools.com/python/python_file_write.asp ."
   ]
  },
  {
   "cell_type": "code",
   "execution_count": 18,
   "id": "1e0f296d",
   "metadata": {},
   "outputs": [],
   "source": [
    "##\n",
    "# example code but no function\n",
    "##\n",
    "\n",
    "file = open(\"output.txt\", \"w\")\n",
    "file.write(\"my_name\")\n",
    "file.close()"
   ]
  },
  {
   "cell_type": "markdown",
   "id": "4c64d225",
   "metadata": {},
   "source": [
    "### 7. Aufgabe \n",
    "Lies die Datei \"grades.txt\" Zeile für Zeile aus. Hilfe findest du hier: https://www.w3schools.com/python/python_file_write.asp . Die Datei findest du hier: https://drive.google.com/drive/folders/1nA9EYW8F2FoxCGgrK66-4iqcbVdLzU7s?usp=share_link ."
   ]
  },
  {
   "cell_type": "code",
   "execution_count": 24,
   "id": "11abf3fc",
   "metadata": {},
   "outputs": [],
   "source": [
    "##\n",
    "# write your code below this comment\n",
    "##"
   ]
  },
  {
   "cell_type": "markdown",
   "id": "efdd2179",
   "metadata": {},
   "source": [
    "### 8. Aufgabe \n",
    "Schreibe eine Funktion die, die Noten Zeile für Zeile einliest und eine Liste erstellt. Berechne dann mit einer Funktion deren Zeugnisnote (Durchschnitt)."
   ]
  },
  {
   "cell_type": "code",
   "execution_count": 25,
   "id": "0c52a27e",
   "metadata": {},
   "outputs": [],
   "source": [
    "##\n",
    "# write your code below here\n",
    "##"
   ]
  },
  {
   "cell_type": "code",
   "execution_count": null,
   "id": "28968a14",
   "metadata": {},
   "outputs": [],
   "source": []
  }
 ],
 "metadata": {
  "kernelspec": {
   "display_name": "Python 3",
   "language": "python",
   "name": "python3"
  },
  "language_info": {
   "codemirror_mode": {
    "name": "ipython",
    "version": 3
   },
   "file_extension": ".py",
   "mimetype": "text/x-python",
   "name": "python",
   "nbconvert_exporter": "python",
   "pygments_lexer": "ipython3",
   "version": "3.8.8"
  }
 },
 "nbformat": 4,
 "nbformat_minor": 5
}
